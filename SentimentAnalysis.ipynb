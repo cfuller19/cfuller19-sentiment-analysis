{
 "cells": [
  {
   "cell_type": "markdown",
   "id": "c3c191a4-c3a1-4a68-8467-9c8857a41c3e",
   "metadata": {},
   "source": [
    "### Importing Data Sets"
   ]
  },
  {
   "cell_type": "code",
   "execution_count": 1,
   "id": "d1820170-d3b8-4785-a343-a7e3d973976c",
   "metadata": {},
   "outputs": [
    {
     "data": {
      "text/plain": [
       "(1000, 2)"
      ]
     },
     "execution_count": 1,
     "metadata": {},
     "output_type": "execute_result"
    }
   ],
   "source": [
    "#Importing Each Labelled Dataset as a dataframe\n",
    "\n",
    "import pandas as pd\n",
    "\n",
    "import os\n",
    "\n",
    "import warnings\n",
    "warnings.filterwarnings(\"ignore\")\n",
    "\n",
    "#IMDB\n",
    "os.chdir('c://Users/court/OneDrive/Desktop/WGU/D213/sentiment labelled sentences')\n",
    "\n",
    "imdb = open('imdb_labelled.txt', 'r').read()\n",
    "\n",
    "imdb = imdb.split('\\n')\n",
    "\n",
    "imdb = imdb[:-1]\n",
    "\n",
    "imdb = [x.split('\\t') for x in imdb]\n",
    "\n",
    "myimdb = []\n",
    "\n",
    "for x in imdb:\n",
    "    myimdb.append(x)\n",
    "    \n",
    "imdb_df = pd.DataFrame(myimdb)\n",
    "\n",
    "imdb_df.shape"
   ]
  },
  {
   "cell_type": "code",
   "execution_count": 2,
   "id": "ee646b37-8a46-4ab0-b703-0e7431be163f",
   "metadata": {},
   "outputs": [
    {
     "data": {
      "text/plain": [
       "(1000, 2)"
      ]
     },
     "execution_count": 2,
     "metadata": {},
     "output_type": "execute_result"
    }
   ],
   "source": [
    "#Amazon\n",
    "amazon = open('amazon_cells_labelled.txt', 'r').read()\n",
    "\n",
    "amazon = amazon.split('\\n')\n",
    "\n",
    "amazon = amazon[:-1]\n",
    "\n",
    "amazon = [x.split('\\t') for x in amazon]\n",
    "\n",
    "myamazon = []\n",
    "\n",
    "for x in amazon:\n",
    "    myamazon.append(x)\n",
    "\n",
    "amazon_df = pd.DataFrame(myamazon)\n",
    "\n",
    "amazon_df.shape"
   ]
  },
  {
   "cell_type": "code",
   "execution_count": 3,
   "id": "53b94fd3-44ba-4a1a-8597-84c049cdc57a",
   "metadata": {},
   "outputs": [
    {
     "data": {
      "text/plain": [
       "(1000, 2)"
      ]
     },
     "execution_count": 3,
     "metadata": {},
     "output_type": "execute_result"
    }
   ],
   "source": [
    "#Yelp\n",
    "yelp = open('yelp_labelled.txt', 'r').read()\n",
    "\n",
    "yelp = yelp.split('\\n')\n",
    "\n",
    "yelp = yelp[:-1]\n",
    "\n",
    "yelp = [x.split('\\t') for x in yelp]\n",
    "\n",
    "myyelp = []\n",
    "\n",
    "for x in yelp:\n",
    "    myyelp.append(x)\n",
    "\n",
    "yelp_df = pd.DataFrame(myyelp)\n",
    "\n",
    "yelp_df.shape"
   ]
  },
  {
   "cell_type": "code",
   "execution_count": 4,
   "id": "c8b4b510-5d5e-4295-a589-356b0d2cf576",
   "metadata": {},
   "outputs": [
    {
     "data": {
      "text/plain": [
       "(3000, 2)"
      ]
     },
     "execution_count": 4,
     "metadata": {},
     "output_type": "execute_result"
    }
   ],
   "source": [
    "#Joining the dataframes\n",
    "pd.set_option(\"max_colwidth\", None)\n",
    "\n",
    "df = pd.concat([amazon_df, imdb_df, yelp_df], ignore_index=True)\n",
    "\n",
    "df.shape"
   ]
  },
  {
   "cell_type": "code",
   "execution_count": 5,
   "id": "ff0dadc4-e967-4e96-8354-67bf50c0e8fd",
   "metadata": {},
   "outputs": [
    {
     "data": {
      "text/html": [
       "<div>\n",
       "<style scoped>\n",
       "    .dataframe tbody tr th:only-of-type {\n",
       "        vertical-align: middle;\n",
       "    }\n",
       "\n",
       "    .dataframe tbody tr th {\n",
       "        vertical-align: top;\n",
       "    }\n",
       "\n",
       "    .dataframe thead th {\n",
       "        text-align: right;\n",
       "    }\n",
       "</style>\n",
       "<table border=\"1\" class=\"dataframe\">\n",
       "  <thead>\n",
       "    <tr style=\"text-align: right;\">\n",
       "      <th></th>\n",
       "      <th>0</th>\n",
       "      <th>1</th>\n",
       "    </tr>\n",
       "  </thead>\n",
       "  <tbody>\n",
       "    <tr>\n",
       "      <th>0</th>\n",
       "      <td>So there is no way for me to plug it in here in the US unless I go by a converter.</td>\n",
       "      <td>0</td>\n",
       "    </tr>\n",
       "    <tr>\n",
       "      <th>1</th>\n",
       "      <td>Good case, Excellent value.</td>\n",
       "      <td>1</td>\n",
       "    </tr>\n",
       "    <tr>\n",
       "      <th>2</th>\n",
       "      <td>Great for the jawbone.</td>\n",
       "      <td>1</td>\n",
       "    </tr>\n",
       "    <tr>\n",
       "      <th>3</th>\n",
       "      <td>Tied to charger for conversations lasting more than 45 minutes.MAJOR PROBLEMS!!</td>\n",
       "      <td>0</td>\n",
       "    </tr>\n",
       "    <tr>\n",
       "      <th>4</th>\n",
       "      <td>The mic is great.</td>\n",
       "      <td>1</td>\n",
       "    </tr>\n",
       "    <tr>\n",
       "      <th>5</th>\n",
       "      <td>I have to jiggle the plug to get it to line up right to get decent volume.</td>\n",
       "      <td>0</td>\n",
       "    </tr>\n",
       "    <tr>\n",
       "      <th>6</th>\n",
       "      <td>If you have several dozen or several hundred contacts, then imagine the fun of sending each of them one by one.</td>\n",
       "      <td>0</td>\n",
       "    </tr>\n",
       "    <tr>\n",
       "      <th>7</th>\n",
       "      <td>If you are Razr owner...you must have this!</td>\n",
       "      <td>1</td>\n",
       "    </tr>\n",
       "    <tr>\n",
       "      <th>8</th>\n",
       "      <td>Needless to say, I wasted my money.</td>\n",
       "      <td>0</td>\n",
       "    </tr>\n",
       "    <tr>\n",
       "      <th>9</th>\n",
       "      <td>What a waste of money and time!.</td>\n",
       "      <td>0</td>\n",
       "    </tr>\n",
       "  </tbody>\n",
       "</table>\n",
       "</div>"
      ],
      "text/plain": [
       "                                                                                                                 0  \\\n",
       "0                               So there is no way for me to plug it in here in the US unless I go by a converter.   \n",
       "1                                                                                      Good case, Excellent value.   \n",
       "2                                                                                           Great for the jawbone.   \n",
       "3                                  Tied to charger for conversations lasting more than 45 minutes.MAJOR PROBLEMS!!   \n",
       "4                                                                                                The mic is great.   \n",
       "5                                       I have to jiggle the plug to get it to line up right to get decent volume.   \n",
       "6  If you have several dozen or several hundred contacts, then imagine the fun of sending each of them one by one.   \n",
       "7                                                                      If you are Razr owner...you must have this!   \n",
       "8                                                                              Needless to say, I wasted my money.   \n",
       "9                                                                                 What a waste of money and time!.   \n",
       "\n",
       "   1  \n",
       "0  0  \n",
       "1  1  \n",
       "2  1  \n",
       "3  0  \n",
       "4  1  \n",
       "5  0  \n",
       "6  0  \n",
       "7  1  \n",
       "8  0  \n",
       "9  0  "
      ]
     },
     "execution_count": 5,
     "metadata": {},
     "output_type": "execute_result"
    }
   ],
   "source": [
    "#Inspecting the df\n",
    "\n",
    "df.head(10)"
   ]
  },
  {
   "cell_type": "code",
   "execution_count": 6,
   "id": "360b683c-bd61-4bac-a428-00ed0330cafe",
   "metadata": {},
   "outputs": [
    {
     "data": {
      "text/html": [
       "<div>\n",
       "<style scoped>\n",
       "    .dataframe tbody tr th:only-of-type {\n",
       "        vertical-align: middle;\n",
       "    }\n",
       "\n",
       "    .dataframe tbody tr th {\n",
       "        vertical-align: top;\n",
       "    }\n",
       "\n",
       "    .dataframe thead th {\n",
       "        text-align: right;\n",
       "    }\n",
       "</style>\n",
       "<table border=\"1\" class=\"dataframe\">\n",
       "  <thead>\n",
       "    <tr style=\"text-align: right;\">\n",
       "      <th></th>\n",
       "      <th>Review</th>\n",
       "      <th>Sentiment</th>\n",
       "    </tr>\n",
       "  </thead>\n",
       "  <tbody>\n",
       "    <tr>\n",
       "      <th>0</th>\n",
       "      <td>So there is no way for me to plug it in here in the US unless I go by a converter.</td>\n",
       "      <td>0</td>\n",
       "    </tr>\n",
       "    <tr>\n",
       "      <th>1</th>\n",
       "      <td>Good case, Excellent value.</td>\n",
       "      <td>1</td>\n",
       "    </tr>\n",
       "    <tr>\n",
       "      <th>2</th>\n",
       "      <td>Great for the jawbone.</td>\n",
       "      <td>1</td>\n",
       "    </tr>\n",
       "    <tr>\n",
       "      <th>3</th>\n",
       "      <td>Tied to charger for conversations lasting more than 45 minutes.MAJOR PROBLEMS!!</td>\n",
       "      <td>0</td>\n",
       "    </tr>\n",
       "    <tr>\n",
       "      <th>4</th>\n",
       "      <td>The mic is great.</td>\n",
       "      <td>1</td>\n",
       "    </tr>\n",
       "    <tr>\n",
       "      <th>5</th>\n",
       "      <td>I have to jiggle the plug to get it to line up right to get decent volume.</td>\n",
       "      <td>0</td>\n",
       "    </tr>\n",
       "    <tr>\n",
       "      <th>6</th>\n",
       "      <td>If you have several dozen or several hundred contacts, then imagine the fun of sending each of them one by one.</td>\n",
       "      <td>0</td>\n",
       "    </tr>\n",
       "    <tr>\n",
       "      <th>7</th>\n",
       "      <td>If you are Razr owner...you must have this!</td>\n",
       "      <td>1</td>\n",
       "    </tr>\n",
       "    <tr>\n",
       "      <th>8</th>\n",
       "      <td>Needless to say, I wasted my money.</td>\n",
       "      <td>0</td>\n",
       "    </tr>\n",
       "    <tr>\n",
       "      <th>9</th>\n",
       "      <td>What a waste of money and time!.</td>\n",
       "      <td>0</td>\n",
       "    </tr>\n",
       "  </tbody>\n",
       "</table>\n",
       "</div>"
      ],
      "text/plain": [
       "                                                                                                            Review  \\\n",
       "0                               So there is no way for me to plug it in here in the US unless I go by a converter.   \n",
       "1                                                                                      Good case, Excellent value.   \n",
       "2                                                                                           Great for the jawbone.   \n",
       "3                                  Tied to charger for conversations lasting more than 45 minutes.MAJOR PROBLEMS!!   \n",
       "4                                                                                                The mic is great.   \n",
       "5                                       I have to jiggle the plug to get it to line up right to get decent volume.   \n",
       "6  If you have several dozen or several hundred contacts, then imagine the fun of sending each of them one by one.   \n",
       "7                                                                      If you are Razr owner...you must have this!   \n",
       "8                                                                              Needless to say, I wasted my money.   \n",
       "9                                                                                 What a waste of money and time!.   \n",
       "\n",
       "  Sentiment  \n",
       "0         0  \n",
       "1         1  \n",
       "2         1  \n",
       "3         0  \n",
       "4         1  \n",
       "5         0  \n",
       "6         0  \n",
       "7         1  \n",
       "8         0  \n",
       "9         0  "
      ]
     },
     "execution_count": 6,
     "metadata": {},
     "output_type": "execute_result"
    }
   ],
   "source": [
    "#Renaming Columns\n",
    "df.rename(columns = {0:'Review', 1:'Sentiment'}, inplace = True)\n",
    "df.head(10)"
   ]
  },
  {
   "cell_type": "markdown",
   "id": "59f70c3a-4627-433d-b8a1-2916adc7b995",
   "metadata": {},
   "source": [
    "### Cleaning/Preprocessing df"
   ]
  },
  {
   "cell_type": "code",
   "execution_count": 7,
   "id": "d283ff78-1ffb-45ef-9034-966de5628b36",
   "metadata": {},
   "outputs": [
    {
     "name": "stdout",
     "output_type": "stream",
     "text": [
      "<class 'pandas.core.frame.DataFrame'>\n",
      "RangeIndex: 3000 entries, 0 to 2999\n",
      "Data columns (total 2 columns):\n",
      " #   Column     Non-Null Count  Dtype \n",
      "---  ------     --------------  ----- \n",
      " 0   Review     3000 non-null   object\n",
      " 1   Sentiment  3000 non-null   object\n",
      "dtypes: object(2)\n",
      "memory usage: 47.0+ KB\n"
     ]
    }
   ],
   "source": [
    "#Examining data type and null values\n",
    "\n",
    "df.info()"
   ]
  },
  {
   "cell_type": "code",
   "execution_count": 8,
   "id": "1c267918-8012-4b15-86a2-b6c0fca1fb23",
   "metadata": {},
   "outputs": [
    {
     "data": {
      "text/plain": [
       "0    1500\n",
       "1    1500\n",
       "Name: Sentiment, dtype: int64"
      ]
     },
     "execution_count": 8,
     "metadata": {},
     "output_type": "execute_result"
    }
   ],
   "source": [
    "#Examining Value Counts\n",
    "\n",
    "df['Sentiment'].value_counts()"
   ]
  },
  {
   "cell_type": "code",
   "execution_count": 9,
   "id": "7a407752-f467-4ca6-8904-c3f318275253",
   "metadata": {},
   "outputs": [
    {
     "name": "stdout",
     "output_type": "stream",
     "text": [
      "['S', 'o', ' ', 't', 'h', 'e', 'r', 'i', 's', 'n', 'w', 'a', 'y', 'f', 'm', 'p', 'l', 'u', 'g', 'U', 'I', 'b', 'c', 'v', '.', 'G', 'd', ',', 'E', 'x', 'j', 'T', '4', '5', 'M', 'A', 'J', 'O', 'R', 'P', 'B', 'L', '!', 'z', 'N', 'W', 'q', 'H', '+', 'V', '\"', 'Y', 'D', 'F', 'k', \"'\", 'K', 'C', '/', '7', '3', '6', '8', '0', '2', '?', 'Z', '-', '1', ':', ')', '(', 'Q', '&', '$', '*', ';', 'X', '%', '9', '#', '[', ']', 'Â', '–', 'Ã', '©', '…', '¥', '—', 'ª']\n"
     ]
    }
   ],
   "source": [
    "#Identifying Characters Used in 'Review' Column\n",
    "\n",
    "\n",
    "reviews = df['Review']\n",
    "\n",
    "list_of_characters = []\n",
    "\n",
    "for review in reviews:\n",
    "    for character in review:\n",
    "        if character not in list_of_characters:\n",
    "            list_of_characters.append(character)\n",
    "\n",
    "print(list_of_characters)\n"
   ]
  },
  {
   "cell_type": "code",
   "execution_count": 10,
   "id": "49596daa-9b0a-4590-b9f5-598cf00e4c4c",
   "metadata": {},
   "outputs": [
    {
     "data": {
      "text/html": [
       "<div>\n",
       "<style scoped>\n",
       "    .dataframe tbody tr th:only-of-type {\n",
       "        vertical-align: middle;\n",
       "    }\n",
       "\n",
       "    .dataframe tbody tr th {\n",
       "        vertical-align: top;\n",
       "    }\n",
       "\n",
       "    .dataframe thead th {\n",
       "        text-align: right;\n",
       "    }\n",
       "</style>\n",
       "<table border=\"1\" class=\"dataframe\">\n",
       "  <thead>\n",
       "    <tr style=\"text-align: right;\">\n",
       "      <th></th>\n",
       "      <th>Review</th>\n",
       "      <th>Clean_Review</th>\n",
       "    </tr>\n",
       "  </thead>\n",
       "  <tbody>\n",
       "    <tr>\n",
       "      <th>0</th>\n",
       "      <td>So there is no way for me to plug it in here in the US unless I go by a converter.</td>\n",
       "      <td>so there is no way for me to plug it in here in the us unless i go by a converter.</td>\n",
       "    </tr>\n",
       "    <tr>\n",
       "      <th>1</th>\n",
       "      <td>Good case, Excellent value.</td>\n",
       "      <td>good case, excellent value.</td>\n",
       "    </tr>\n",
       "    <tr>\n",
       "      <th>2</th>\n",
       "      <td>Great for the jawbone.</td>\n",
       "      <td>great for the jawbone.</td>\n",
       "    </tr>\n",
       "    <tr>\n",
       "      <th>3</th>\n",
       "      <td>Tied to charger for conversations lasting more than 45 minutes.MAJOR PROBLEMS!!</td>\n",
       "      <td>tied to charger for conversations lasting more than 45 minutes.major problems!!</td>\n",
       "    </tr>\n",
       "    <tr>\n",
       "      <th>4</th>\n",
       "      <td>The mic is great.</td>\n",
       "      <td>the mic is great.</td>\n",
       "    </tr>\n",
       "    <tr>\n",
       "      <th>5</th>\n",
       "      <td>I have to jiggle the plug to get it to line up right to get decent volume.</td>\n",
       "      <td>i have to jiggle the plug to get it to line up right to get decent volume.</td>\n",
       "    </tr>\n",
       "    <tr>\n",
       "      <th>6</th>\n",
       "      <td>If you have several dozen or several hundred contacts, then imagine the fun of sending each of them one by one.</td>\n",
       "      <td>if you have several dozen or several hundred contacts, then imagine the fun of sending each of them one by one.</td>\n",
       "    </tr>\n",
       "    <tr>\n",
       "      <th>7</th>\n",
       "      <td>If you are Razr owner...you must have this!</td>\n",
       "      <td>if you are razr owner...you must have this!</td>\n",
       "    </tr>\n",
       "    <tr>\n",
       "      <th>8</th>\n",
       "      <td>Needless to say, I wasted my money.</td>\n",
       "      <td>needless to say, i wasted my money.</td>\n",
       "    </tr>\n",
       "    <tr>\n",
       "      <th>9</th>\n",
       "      <td>What a waste of money and time!.</td>\n",
       "      <td>what a waste of money and time!.</td>\n",
       "    </tr>\n",
       "  </tbody>\n",
       "</table>\n",
       "</div>"
      ],
      "text/plain": [
       "                                                                                                            Review  \\\n",
       "0                               So there is no way for me to plug it in here in the US unless I go by a converter.   \n",
       "1                                                                                      Good case, Excellent value.   \n",
       "2                                                                                           Great for the jawbone.   \n",
       "3                                  Tied to charger for conversations lasting more than 45 minutes.MAJOR PROBLEMS!!   \n",
       "4                                                                                                The mic is great.   \n",
       "5                                       I have to jiggle the plug to get it to line up right to get decent volume.   \n",
       "6  If you have several dozen or several hundred contacts, then imagine the fun of sending each of them one by one.   \n",
       "7                                                                      If you are Razr owner...you must have this!   \n",
       "8                                                                              Needless to say, I wasted my money.   \n",
       "9                                                                                 What a waste of money and time!.   \n",
       "\n",
       "                                                                                                      Clean_Review  \n",
       "0                               so there is no way for me to plug it in here in the us unless i go by a converter.  \n",
       "1                                                                                      good case, excellent value.  \n",
       "2                                                                                           great for the jawbone.  \n",
       "3                                  tied to charger for conversations lasting more than 45 minutes.major problems!!  \n",
       "4                                                                                                the mic is great.  \n",
       "5                                       i have to jiggle the plug to get it to line up right to get decent volume.  \n",
       "6  if you have several dozen or several hundred contacts, then imagine the fun of sending each of them one by one.  \n",
       "7                                                                      if you are razr owner...you must have this!  \n",
       "8                                                                              needless to say, i wasted my money.  \n",
       "9                                                                                 what a waste of money and time!.  "
      ]
     },
     "execution_count": 10,
     "metadata": {},
     "output_type": "execute_result"
    }
   ],
   "source": [
    "#Transform reviews to all lowercase\n",
    "df['Clean_Review'] = df['Review'].str.lower()\n",
    "\n",
    "df[['Review', 'Clean_Review']].head(10)"
   ]
  },
  {
   "cell_type": "code",
   "execution_count": 11,
   "id": "d4c6129f-a834-4a6d-be62-f9d6b552fb45",
   "metadata": {},
   "outputs": [
    {
     "data": {
      "text/html": [
       "<div>\n",
       "<style scoped>\n",
       "    .dataframe tbody tr th:only-of-type {\n",
       "        vertical-align: middle;\n",
       "    }\n",
       "\n",
       "    .dataframe tbody tr th {\n",
       "        vertical-align: top;\n",
       "    }\n",
       "\n",
       "    .dataframe thead th {\n",
       "        text-align: right;\n",
       "    }\n",
       "</style>\n",
       "<table border=\"1\" class=\"dataframe\">\n",
       "  <thead>\n",
       "    <tr style=\"text-align: right;\">\n",
       "      <th></th>\n",
       "      <th>Review</th>\n",
       "      <th>Clean_Review</th>\n",
       "    </tr>\n",
       "  </thead>\n",
       "  <tbody>\n",
       "    <tr>\n",
       "      <th>0</th>\n",
       "      <td>So there is no way for me to plug it in here in the US unless I go by a converter.</td>\n",
       "      <td>so there is no way for me to plug it in here in the us unless i go by a converter</td>\n",
       "    </tr>\n",
       "    <tr>\n",
       "      <th>1</th>\n",
       "      <td>Good case, Excellent value.</td>\n",
       "      <td>good case excellent value</td>\n",
       "    </tr>\n",
       "    <tr>\n",
       "      <th>2</th>\n",
       "      <td>Great for the jawbone.</td>\n",
       "      <td>great for the jawbone</td>\n",
       "    </tr>\n",
       "    <tr>\n",
       "      <th>3</th>\n",
       "      <td>Tied to charger for conversations lasting more than 45 minutes.MAJOR PROBLEMS!!</td>\n",
       "      <td>tied to charger for conversations lasting more than minutes major problems</td>\n",
       "    </tr>\n",
       "    <tr>\n",
       "      <th>4</th>\n",
       "      <td>The mic is great.</td>\n",
       "      <td>the mic is great</td>\n",
       "    </tr>\n",
       "    <tr>\n",
       "      <th>5</th>\n",
       "      <td>I have to jiggle the plug to get it to line up right to get decent volume.</td>\n",
       "      <td>i have to jiggle the plug to get it to line up right to get decent volume</td>\n",
       "    </tr>\n",
       "    <tr>\n",
       "      <th>6</th>\n",
       "      <td>If you have several dozen or several hundred contacts, then imagine the fun of sending each of them one by one.</td>\n",
       "      <td>if you have several dozen or several hundred contacts then imagine the fun of sending each of them one by one</td>\n",
       "    </tr>\n",
       "    <tr>\n",
       "      <th>7</th>\n",
       "      <td>If you are Razr owner...you must have this!</td>\n",
       "      <td>if you are razr owner you must have this</td>\n",
       "    </tr>\n",
       "    <tr>\n",
       "      <th>8</th>\n",
       "      <td>Needless to say, I wasted my money.</td>\n",
       "      <td>needless to say i wasted my money</td>\n",
       "    </tr>\n",
       "    <tr>\n",
       "      <th>9</th>\n",
       "      <td>What a waste of money and time!.</td>\n",
       "      <td>what a waste of money and time</td>\n",
       "    </tr>\n",
       "  </tbody>\n",
       "</table>\n",
       "</div>"
      ],
      "text/plain": [
       "                                                                                                            Review  \\\n",
       "0                               So there is no way for me to plug it in here in the US unless I go by a converter.   \n",
       "1                                                                                      Good case, Excellent value.   \n",
       "2                                                                                           Great for the jawbone.   \n",
       "3                                  Tied to charger for conversations lasting more than 45 minutes.MAJOR PROBLEMS!!   \n",
       "4                                                                                                The mic is great.   \n",
       "5                                       I have to jiggle the plug to get it to line up right to get decent volume.   \n",
       "6  If you have several dozen or several hundred contacts, then imagine the fun of sending each of them one by one.   \n",
       "7                                                                      If you are Razr owner...you must have this!   \n",
       "8                                                                              Needless to say, I wasted my money.   \n",
       "9                                                                                 What a waste of money and time!.   \n",
       "\n",
       "                                                                                                     Clean_Review  \n",
       "0                              so there is no way for me to plug it in here in the us unless i go by a converter   \n",
       "1                                                                                      good case excellent value   \n",
       "2                                                                                          great for the jawbone   \n",
       "3                                     tied to charger for conversations lasting more than minutes major problems   \n",
       "4                                                                                               the mic is great   \n",
       "5                                      i have to jiggle the plug to get it to line up right to get decent volume   \n",
       "6  if you have several dozen or several hundred contacts then imagine the fun of sending each of them one by one   \n",
       "7                                                                       if you are razr owner you must have this   \n",
       "8                                                                              needless to say i wasted my money   \n",
       "9                                                                                 what a waste of money and time   "
      ]
     },
     "execution_count": 11,
     "metadata": {},
     "output_type": "execute_result"
    }
   ],
   "source": [
    "#Removing Punctuation and Special Characters\n",
    "\n",
    "#Removing all characters except lowercase a-z\n",
    "df['Clean_Review'] = df['Clean_Review'].str.replace('[^a-z]', ' ')\n",
    "\n",
    "#Removing extra whitespace\n",
    "df['Clean_Review'] = df['Clean_Review'].str.replace(' +', ' ')\n",
    "    \n",
    "df[['Review', 'Clean_Review']].head(10)"
   ]
  },
  {
   "cell_type": "code",
   "execution_count": 12,
   "id": "5ad23f70-956f-432e-860e-5ead8414c12c",
   "metadata": {},
   "outputs": [
    {
     "name": "stdout",
     "output_type": "stream",
     "text": [
      "['s', 'o', ' ', 't', 'h', 'e', 'r', 'i', 'n', 'w', 'a', 'y', 'f', 'm', 'p', 'l', 'u', 'g', 'b', 'c', 'v', 'd', 'x', 'j', 'z', 'q', 'k']\n"
     ]
    }
   ],
   "source": [
    "#Checking for Characters in Clean_Review\n",
    "\n",
    "clean_reviews = df['Clean_Review']\n",
    "\n",
    "clean_list_of_characters = []\n",
    "\n",
    "for review in clean_reviews:\n",
    "    for character in review:\n",
    "        if character not in clean_list_of_characters:\n",
    "            clean_list_of_characters.append(character)\n",
    "\n",
    "print(clean_list_of_characters)"
   ]
  },
  {
   "cell_type": "code",
   "execution_count": 13,
   "id": "04bb7399-67e0-4325-a37e-397fe9b90ddd",
   "metadata": {},
   "outputs": [
    {
     "name": "stderr",
     "output_type": "stream",
     "text": [
      "[nltk_data] Downloading package stopwords to\n",
      "[nltk_data]     C:\\Users\\court\\AppData\\Roaming\\nltk_data...\n",
      "[nltk_data]   Package stopwords is already up-to-date!\n"
     ]
    },
    {
     "data": {
      "text/html": [
       "<div>\n",
       "<style scoped>\n",
       "    .dataframe tbody tr th:only-of-type {\n",
       "        vertical-align: middle;\n",
       "    }\n",
       "\n",
       "    .dataframe tbody tr th {\n",
       "        vertical-align: top;\n",
       "    }\n",
       "\n",
       "    .dataframe thead th {\n",
       "        text-align: right;\n",
       "    }\n",
       "</style>\n",
       "<table border=\"1\" class=\"dataframe\">\n",
       "  <thead>\n",
       "    <tr style=\"text-align: right;\">\n",
       "      <th></th>\n",
       "      <th>Review</th>\n",
       "      <th>Clean_Review</th>\n",
       "    </tr>\n",
       "  </thead>\n",
       "  <tbody>\n",
       "    <tr>\n",
       "      <th>0</th>\n",
       "      <td>So there is no way for me to plug it in here in the US unless I go by a converter.</td>\n",
       "      <td>way plug us unless go converter</td>\n",
       "    </tr>\n",
       "    <tr>\n",
       "      <th>1</th>\n",
       "      <td>Good case, Excellent value.</td>\n",
       "      <td>good case excellent value</td>\n",
       "    </tr>\n",
       "    <tr>\n",
       "      <th>2</th>\n",
       "      <td>Great for the jawbone.</td>\n",
       "      <td>great jawbone</td>\n",
       "    </tr>\n",
       "    <tr>\n",
       "      <th>3</th>\n",
       "      <td>Tied to charger for conversations lasting more than 45 minutes.MAJOR PROBLEMS!!</td>\n",
       "      <td>tied charger conversations lasting minutes major problems</td>\n",
       "    </tr>\n",
       "    <tr>\n",
       "      <th>4</th>\n",
       "      <td>The mic is great.</td>\n",
       "      <td>mic great</td>\n",
       "    </tr>\n",
       "    <tr>\n",
       "      <th>5</th>\n",
       "      <td>I have to jiggle the plug to get it to line up right to get decent volume.</td>\n",
       "      <td>jiggle plug get line right get decent volume</td>\n",
       "    </tr>\n",
       "    <tr>\n",
       "      <th>6</th>\n",
       "      <td>If you have several dozen or several hundred contacts, then imagine the fun of sending each of them one by one.</td>\n",
       "      <td>several dozen several hundred contacts imagine fun sending one one</td>\n",
       "    </tr>\n",
       "    <tr>\n",
       "      <th>7</th>\n",
       "      <td>If you are Razr owner...you must have this!</td>\n",
       "      <td>razr owner must</td>\n",
       "    </tr>\n",
       "    <tr>\n",
       "      <th>8</th>\n",
       "      <td>Needless to say, I wasted my money.</td>\n",
       "      <td>needless say wasted money</td>\n",
       "    </tr>\n",
       "    <tr>\n",
       "      <th>9</th>\n",
       "      <td>What a waste of money and time!.</td>\n",
       "      <td>waste money time</td>\n",
       "    </tr>\n",
       "  </tbody>\n",
       "</table>\n",
       "</div>"
      ],
      "text/plain": [
       "                                                                                                            Review  \\\n",
       "0                               So there is no way for me to plug it in here in the US unless I go by a converter.   \n",
       "1                                                                                      Good case, Excellent value.   \n",
       "2                                                                                           Great for the jawbone.   \n",
       "3                                  Tied to charger for conversations lasting more than 45 minutes.MAJOR PROBLEMS!!   \n",
       "4                                                                                                The mic is great.   \n",
       "5                                       I have to jiggle the plug to get it to line up right to get decent volume.   \n",
       "6  If you have several dozen or several hundred contacts, then imagine the fun of sending each of them one by one.   \n",
       "7                                                                      If you are Razr owner...you must have this!   \n",
       "8                                                                              Needless to say, I wasted my money.   \n",
       "9                                                                                 What a waste of money and time!.   \n",
       "\n",
       "                                                         Clean_Review  \n",
       "0                                     way plug us unless go converter  \n",
       "1                                           good case excellent value  \n",
       "2                                                       great jawbone  \n",
       "3           tied charger conversations lasting minutes major problems  \n",
       "4                                                           mic great  \n",
       "5                        jiggle plug get line right get decent volume  \n",
       "6  several dozen several hundred contacts imagine fun sending one one  \n",
       "7                                                     razr owner must  \n",
       "8                                           needless say wasted money  \n",
       "9                                                    waste money time  "
      ]
     },
     "execution_count": 13,
     "metadata": {},
     "output_type": "execute_result"
    }
   ],
   "source": [
    "#Removing Stopwords\n",
    "import nltk\n",
    "from nltk.corpus import stopwords\n",
    "nltk.download('stopwords')\n",
    "\n",
    "stop = stopwords.words('english')\n",
    "\n",
    "df['Clean_Review'] = df['Clean_Review'].apply(lambda x: \" \".join(x for x in x.split() if x not in stop))\n",
    "\n",
    "df[['Review', 'Clean_Review']].head(10)"
   ]
  },
  {
   "cell_type": "code",
   "execution_count": 14,
   "id": "a045578c-069f-4830-8fc6-5613776a927d",
   "metadata": {},
   "outputs": [
    {
     "data": {
      "text/html": [
       "<div>\n",
       "<style scoped>\n",
       "    .dataframe tbody tr th:only-of-type {\n",
       "        vertical-align: middle;\n",
       "    }\n",
       "\n",
       "    .dataframe tbody tr th {\n",
       "        vertical-align: top;\n",
       "    }\n",
       "\n",
       "    .dataframe thead th {\n",
       "        text-align: right;\n",
       "    }\n",
       "</style>\n",
       "<table border=\"1\" class=\"dataframe\">\n",
       "  <thead>\n",
       "    <tr style=\"text-align: right;\">\n",
       "      <th></th>\n",
       "      <th>Review</th>\n",
       "      <th>Clean_Review</th>\n",
       "    </tr>\n",
       "  </thead>\n",
       "  <tbody>\n",
       "    <tr>\n",
       "      <th>0</th>\n",
       "      <td>So there is no way for me to plug it in here in the US unless I go by a converter.</td>\n",
       "      <td>way plug u unless go converter</td>\n",
       "    </tr>\n",
       "    <tr>\n",
       "      <th>1</th>\n",
       "      <td>Good case, Excellent value.</td>\n",
       "      <td>good case excellent value</td>\n",
       "    </tr>\n",
       "    <tr>\n",
       "      <th>2</th>\n",
       "      <td>Great for the jawbone.</td>\n",
       "      <td>great jawbone</td>\n",
       "    </tr>\n",
       "    <tr>\n",
       "      <th>3</th>\n",
       "      <td>Tied to charger for conversations lasting more than 45 minutes.MAJOR PROBLEMS!!</td>\n",
       "      <td>tied charger conversation lasting minute major problem</td>\n",
       "    </tr>\n",
       "    <tr>\n",
       "      <th>4</th>\n",
       "      <td>The mic is great.</td>\n",
       "      <td>mic great</td>\n",
       "    </tr>\n",
       "    <tr>\n",
       "      <th>5</th>\n",
       "      <td>I have to jiggle the plug to get it to line up right to get decent volume.</td>\n",
       "      <td>jiggle plug get line right get decent volume</td>\n",
       "    </tr>\n",
       "    <tr>\n",
       "      <th>6</th>\n",
       "      <td>If you have several dozen or several hundred contacts, then imagine the fun of sending each of them one by one.</td>\n",
       "      <td>several dozen several hundred contact imagine fun sending one one</td>\n",
       "    </tr>\n",
       "    <tr>\n",
       "      <th>7</th>\n",
       "      <td>If you are Razr owner...you must have this!</td>\n",
       "      <td>razr owner must</td>\n",
       "    </tr>\n",
       "    <tr>\n",
       "      <th>8</th>\n",
       "      <td>Needless to say, I wasted my money.</td>\n",
       "      <td>needle say wasted money</td>\n",
       "    </tr>\n",
       "    <tr>\n",
       "      <th>9</th>\n",
       "      <td>What a waste of money and time!.</td>\n",
       "      <td>waste money time</td>\n",
       "    </tr>\n",
       "  </tbody>\n",
       "</table>\n",
       "</div>"
      ],
      "text/plain": [
       "                                                                                                            Review  \\\n",
       "0                               So there is no way for me to plug it in here in the US unless I go by a converter.   \n",
       "1                                                                                      Good case, Excellent value.   \n",
       "2                                                                                           Great for the jawbone.   \n",
       "3                                  Tied to charger for conversations lasting more than 45 minutes.MAJOR PROBLEMS!!   \n",
       "4                                                                                                The mic is great.   \n",
       "5                                       I have to jiggle the plug to get it to line up right to get decent volume.   \n",
       "6  If you have several dozen or several hundred contacts, then imagine the fun of sending each of them one by one.   \n",
       "7                                                                      If you are Razr owner...you must have this!   \n",
       "8                                                                              Needless to say, I wasted my money.   \n",
       "9                                                                                 What a waste of money and time!.   \n",
       "\n",
       "                                                        Clean_Review  \n",
       "0                                     way plug u unless go converter  \n",
       "1                                          good case excellent value  \n",
       "2                                                      great jawbone  \n",
       "3             tied charger conversation lasting minute major problem  \n",
       "4                                                          mic great  \n",
       "5                       jiggle plug get line right get decent volume  \n",
       "6  several dozen several hundred contact imagine fun sending one one  \n",
       "7                                                    razr owner must  \n",
       "8                                            needle say wasted money  \n",
       "9                                                   waste money time  "
      ]
     },
     "execution_count": 14,
     "metadata": {},
     "output_type": "execute_result"
    }
   ],
   "source": [
    "#Lemmatization \n",
    "\n",
    "from nltk.stem import WordNetLemmatizer\n",
    "\n",
    "lemmatizer = WordNetLemmatizer()\n",
    "\n",
    "def convert(text):\n",
    "    lemmatized_text = []\n",
    "    for i in text.split():\n",
    "        lemmatized_text.append(str(lemmatizer.lemmatize(i)))\n",
    "\n",
    "    return ' '.join(lemmatized_text)\n",
    "\n",
    "df['Clean_Review'] = df['Clean_Review'].apply(lambda x: convert(x))\n",
    "\n",
    "df[['Review', 'Clean_Review']].head(10)"
   ]
  },
  {
   "cell_type": "code",
   "execution_count": 15,
   "id": "2b377332-c089-4be5-9e72-39b3417fc837",
   "metadata": {},
   "outputs": [
    {
     "name": "stdout",
     "output_type": "stream",
     "text": [
      "The vocabulary size is:  4558\n",
      "The embedding length is:  8\n"
     ]
    }
   ],
   "source": [
    "#Finding Vocabulary Length\n",
    "import numpy as np\n",
    "\n",
    "#Tokenize Whole df\n",
    "df['Token_Review'] = df['Clean_Review']\n",
    "\n",
    "from tensorflow.keras.preprocessing.text import Tokenizer\n",
    "\n",
    "tokenizer = Tokenizer()\n",
    "\n",
    "tokenizer.fit_on_texts(df['Token_Review'])\n",
    "\n",
    "word_index = tokenizer.word_index\n",
    "\n",
    "vocab = len(word_index)\n",
    "\n",
    "embedding = int(round(np.sqrt(np.sqrt(vocab)), 0))\n",
    "\n",
    "print(\"The vocabulary size is: \", vocab)\n",
    "\n",
    "print(\"The embedding length is: \", embedding)"
   ]
  },
  {
   "cell_type": "code",
   "execution_count": 16,
   "id": "e4b68c8b-8ec9-4357-b9af-b8217f2d8e37",
   "metadata": {},
   "outputs": [
    {
     "name": "stdout",
     "output_type": "stream",
     "text": [
      "The max length is:  44\n"
     ]
    }
   ],
   "source": [
    "#Finding Maximum length of reviews\n",
    "\n",
    "review_length = []\n",
    "\n",
    "for review in df.Clean_Review:\n",
    "    review_length.append(len(review.split(' ')))\n",
    "\n",
    "max_length = int(round(np.max(review_length), 0))\n",
    "\n",
    "print(\"The max length is: \", max_length)"
   ]
  },
  {
   "cell_type": "code",
   "execution_count": 17,
   "id": "aee8c688-4d40-4130-a71f-49d66a2f4efe",
   "metadata": {},
   "outputs": [
    {
     "name": "stdout",
     "output_type": "stream",
     "text": [
      "{'<OOV>': 1, 'great': 2, 'movie': 3, 'good': 4, 'phone': 5, 'film': 6, 'one': 7, 'time': 8, 'like': 9, 'service': 10, 'work': 11, 'food': 12, 'place': 13, 'well': 14, 'really': 15, 'bad': 16, 'would': 17, 'ever': 18, 'back': 19, 'even': 20, 'also': 21, 'best': 22, 'go': 23, 'get': 24, 'love': 25, 'product': 26, 'make': 27, 'better': 28, 'could': 29, 'quality': 30, 'made': 31, 'never': 32, 'much': 33, 'use': 34, 'excellent': 35, 'sound': 36, 'headset': 37, 'thing': 38, 'way': 39, 'battery': 40, 'think': 41, 'acting': 42, 'character': 43, 'nice': 44, 'price': 45, 'look': 46, 'year': 47, 'ear': 48, 'recommend': 49, 'first': 50, 'pretty': 51, 'disappointed': 52, 'say': 53, 'got': 54, 'see': 55, 'minute': 56, 'enough': 57, 'every': 58, 'worst': 59, 'people': 60, 'case': 61, 'two': 62, 'everything': 63, 'little': 64, 'right': 65, 'piece': 66, 'still': 67, 'problem': 68, 'new': 69, 'lot': 70, 'terrible': 71, 'money': 72, 'scene': 73, 'actor': 74, 'experience': 75, 'definitely': 76, 'life': 77, 'waste': 78, 'seen': 79, 'many': 80, 'give': 81, 'story': 82, 'restaurant': 83, 'fit': 84, 'amazing': 85, 'going': 86, 'know': 87, 'call': 88, 'came': 89, 'star': 90, 'screen': 91, 'real': 92, 'day': 93, 'u': 94, 'friendly': 95, 'far': 96, 'line': 97, 'worth': 98, 'watching': 99, 'take': 100, 'nothing': 101, 'want': 102, 'come': 103, 'used': 104, 'funny': 105, 'poor': 106, 'always': 107, 'plot': 108, 'thought': 109, 'show': 110, 'hour': 111, 'however': 112, 'camera': 113, 'fine': 114, 'another': 115, 'find': 116, 'buy': 117, 'script': 118, 'item': 119, 'slow': 120, 'comfortable': 121, 'bought': 122, 'long': 123, 'staff': 124, 'wonderful': 125, 'probably': 126, 'worked': 127, 'job': 128, 'around': 129, 'suck': 130, 'beautiful': 131, 'try': 132, 'vega': 133, 'easy': 134, 'picture': 135, 'reception': 136, 'end': 137, 'car': 138, 'old': 139, 'customer': 140, 'highly': 141, 'actually': 142, 'last': 143, 'found': 144, 'cool': 145, 'menu': 146, 'went': 147, 'watch': 148, 'since': 149, 'side': 150, 'special': 151, 'fantastic': 152, 'dish': 153, 'quite': 154, 'said': 155, 'though': 156, 'big': 157, 'charger': 158, 'black': 159, 'performance': 160, 'absolutely': 161, 'hard': 162, 'awesome': 163, 'happy': 164, 'especially': 165, 'small': 166, 'part': 167, 'delicious': 168, 'must': 169, 'feel': 170, 'next': 171, 'chicken': 172, 'impressed': 173, 'working': 174, 'music': 175, 'charge': 176, 'least': 177, 'horrible': 178, 'anyone': 179, 'night': 180, 'cast': 181, 'loved': 182, 'salad': 183, 'coming': 184, 'simply': 185, 'felt': 186, 'bit': 187, 'overall': 188, 'fresh': 189, 'avoid': 190, 'eat': 191, 'purchase': 192, 'away': 193, 'order': 194, 'hand': 195, 'liked': 196, 'family': 197, 'talk': 198, 'kind': 199, 'play': 200, 'without': 201, 'meal': 202, 'steak': 203, 'pizza': 204, 'cheap': 205, 'turn': 206, 'wait': 207, 'motorola': 208, 'incredible': 209, 'awful': 210, 'cell': 211, 'interesting': 212, 'ordered': 213, 'white': 214, 'rather': 215, 'taste': 216, 'enjoyed': 217, 'clear': 218, 'almost': 219, 'anything': 220, 'tried': 221, 'truly': 222, 'sure': 223, 'server': 224, 'perfect': 225, 'game': 226, 'put': 227, 'sauce': 228, 'everyone': 229, 'worse': 230, 'perfectly': 231, 'seriously': 232, 'tell': 233, 'sushi': 234, 'bar': 235, 'full': 236, 'set': 237, 'feeling': 238, 'totally': 239, 'art': 240, 'keep': 241, 'bluetooth': 242, 'hold': 243, 'either': 244, 'watched': 245, 'short': 246, 'certainly': 247, 'effect': 248, 'month': 249, 'three': 250, 'tasty': 251, 'writing': 252, 'using': 253, 'different': 254, 'friend': 255, 'looking': 256, 'kid': 257, 'hear': 258, 'expect': 259, 'done': 260, 'disappointment': 261, 'care': 262, 'le': 263, 'sucked': 264, 'selection': 265, 'lunch': 266, 'return': 267, 'getting': 268, 'completely': 269, 'burger': 270, 'table': 271, 'bland': 272, 'received': 273, 'stay': 274, 'low': 275, 'review': 276, 'mediocre': 277, 'yet': 278, 'decent': 279, 'volume': 280, 'home': 281, 'dialogue': 282, 'extremely': 283, 'kept': 284, 'enjoy': 285, 'super': 286, 'disappointing': 287, 'dropped': 288, 'face': 289, 'stupid': 290, 'believe': 291, 'easily': 292, 'ending': 293, 'feature': 294, 'second': 295, 'meat': 296, 'button': 297, 'pleased': 298, 'device': 299, 'barely': 300, 'verizon': 301, 'together': 302, 'man': 303, 'design': 304, 'cinematography': 305, 'plug': 306, 'boring': 307, 'may': 308, 'hot': 309, 'left': 310, 'human': 311, 'atmosphere': 312, 'fails': 313, 'took': 314, 'twice': 315, 'crap': 316, 'flavor': 317, 'fast': 318, 'top': 319, 'fact': 320, 'high': 321, 'child': 322, 'beer': 323, 'cost': 324, 'junk': 325, 'huge': 326, 'original': 327, 'buffet': 328, 'value': 329, 'several': 330, 'breakfast': 331, 'garbage': 332, 'voice': 333, 'deal': 334, 'making': 335, 'wrong': 336, 'spot': 337, 'heart': 338, 'word': 339, 'ago': 340, 'amazon': 341, 'fry': 342, 'need': 343, 'classic': 344, 'tv': 345, 'unfortunately': 346, 'nokia': 347, 'pay': 348, 'check': 349, 'director': 350, 'software': 351, 'brilliant': 352, 'color': 353, 'horror': 354, 'wasted': 355, 'within': 356, 'recommended': 357, 'week': 358, 'attentive': 359, 'ask': 360, 'glad': 361, 'oh': 362, 'girl': 363, 'suspense': 364, 'written': 365, 'directing': 366, 'seems': 367, 'fall': 368, 'inside': 369, 'waited': 370, 'role': 371, 'half': 372, 'else': 373, 'played': 374, 'joy': 375, 'helpful': 376, 'let': 377, 'quickly': 378, 'saw': 379, 'light': 380, 'sandwich': 381, 'jabra': 382, 'break': 383, 'someone': 384, 'portion': 385, 'earpiece': 386, 'mess': 387, 'cannot': 388, 'hate': 389, 'couple': 390, 'waitress': 391, 'priced': 392, 'predictable': 393, 'wear': 394, 'finally': 395, 'clean': 396, 'wife': 397, 'area': 398, 'charm': 399, 'location': 400, 'action': 401, 'dessert': 402, 'whole': 403, 'cold': 404, 'understand': 405, 'playing': 406, 'arrived': 407, 'tender': 408, 'outside': 409, 'house': 410, 'none': 411, 'self': 412, 'free': 413, 'important': 414, 'waiting': 415, 'guess': 416, 'useless': 417, 'obviously': 418, 'internet': 419, 'extra': 420, 'series': 421, 'unless': 422, 'eye': 423, 'whether': 424, 'john': 425, 'dont': 426, 'rude': 427, 'average': 428, 'unit': 429, 'simple': 430, 'dining': 431, 'style': 432, 'joke': 433, 'wanted': 434, 'idea': 435, 'non': 436, 'spicy': 437, 'business': 438, 'attempt': 439, 'lost': 440, 'point': 441, 'started': 442, 'waiter': 443, 'cable': 444, 'delight': 445, 'ridiculous': 446, 'owner': 447, 'expected': 448, 'particular': 449, 'world': 450, 'fun': 451, 'mean': 452, 'fan': 453, 'served': 454, 'party': 455, 'today': 456, 'adorable': 457, 'song': 458, 'terrific': 459, 'drink': 460, 'connection': 461, 'given': 462, 'mind': 463, 'cooked': 464, 'budget': 465, 'touch': 466, 'drive': 467, 'amount': 468, 'cut': 469, 'reason': 470, 'rare': 471, 'superb': 472, 'subtle': 473, 'sometimes': 474, 'perhaps': 475, 'annoying': 476, 'v': 477, 'fish': 478, 'warm': 479, 'literally': 480, 'solid': 481, 'difficult': 482, 'setting': 483, 'gave': 484, 'trying': 485, 'believable': 486, 'plus': 487, 'level': 488, 'rest': 489, 'instead': 490, 'thin': 491, 'thriller': 492, 'flick': 493, 'rating': 494, 'run': 495, 'management': 496, 'choice': 497, 'utterly': 498, 'plain': 499, 'potato': 500, 'start': 501, 'drop': 502, 'audio': 503, 'lame': 504, 'hope': 505, 'head': 506, 'book': 507, 'maybe': 508, 'dead': 509, 'bother': 510, 'beyond': 511, 'consider': 512, 'bring': 513, 'course': 514, 'shot': 515, 'documentary': 516, 'rent': 517, 'editing': 518, 'wall': 519, 'beef': 520, 'tasted': 521, 'zero': 522, 'note': 523, 'hit': 524, 'whatever': 525, 'become': 526, 'drama': 527, 'others': 528, 'wish': 529, 'living': 530, 'guy': 531, 'reading': 532, 'beat': 533, 'loud': 534, 'quick': 535, 'instruction': 536, 'entire': 537, 'might': 538, 'strong': 539, 'lacking': 540, 'pasta': 541, 'cant': 542, 'seemed': 543, 'broke': 544, 'replace': 545, 'blue': 546, 'dog': 547, 'something': 548, 'reasonable': 549, 'lack': 550, 'elsewhere': 551, 'despite': 552, 'data': 553, 'empty': 554, 'shrimp': 555, 'particularly': 556, 'cartoon': 557, 'water': 558, 'company': 559, 'provided': 560, 'moving': 561, 'actress': 562, 'hitchcock': 563, 'wow': 564, 'moment': 565, 'portrayal': 566, 'bread': 567, 'trip': 568, 'charging': 569, 'happened': 570, 'seated': 571, 'chip': 572, 'poorly': 573, 'mention': 574, 'dirty': 575, 'recent': 576, 'whatsoever': 577, 'store': 578, 'cover': 579, 'sick': 580, 'although': 581, 'turned': 582, 'thumb': 583, 'large': 584, 'needed': 585, 'description': 586, 'control': 587, 'wind': 588, 'told': 589, 'pg': 590, 'video': 591, 'failed': 592, 'min': 593, 'genuine': 594, 'palm': 595, 'lady': 596, 'range': 597, 'often': 598, 'occasionally': 599, 'soon': 600, 'computer': 601, 'authentic': 602, 'etc': 603, 'stop': 604, 'seafood': 605, 'seem': 606, 'rated': 607, 'emotion': 608, 'sense': 609, 'tale': 610, 'walked': 611, 'possible': 612, 'credit': 613, 'due': 614, 'help': 615, 'along': 616, 'boy': 617, 'leave': 618, 'chemistry': 619, 'front': 620, 'bunch': 621, 'plastic': 622, 'mobile': 623, 'tool': 624, 'lacked': 625, 'pull': 626, 'weak': 627, 'town': 628, 'folk': 629, 'wine': 630, 'list': 631, 'shipping': 632, 'memory': 633, 'effort': 634, 'memorable': 635, 'comedy': 636, 'keyboard': 637, 'appreciate': 638, 'forget': 639, 'tip': 640, 'please': 641, 'young': 642, 'main': 643, 'size': 644, 'ready': 645, 'glass': 646, 'sign': 647, 'hilarious': 648, 'soundtrack': 649, 'ability': 650, 'option': 651, 'thai': 652, 'ringtones': 653, 'expensive': 654, 'room': 655, 'daughter': 656, 'fried': 657, 'involved': 658, 'result': 659, 'seeing': 660, 'tom': 661, 'spoiler': 662, 'foot': 663, 'green': 664, 'bored': 665, 'damn': 666, 'total': 667, 'dinner': 668, 'number': 669, 'rate': 670, 'network': 671, 'ended': 672, 'conversation': 673, 'follow': 674, 'signal': 675, 'tasteless': 676, 'final': 677, 'running': 678, 'worthless': 679, 'death': 680, 'basically': 681, 'created': 682, 'offer': 683, 'yes': 684, 'par': 685, 'website': 686, 'direction': 687, 'production': 688, 'charged': 689, 'belly': 690, 'thinking': 691, 'angle': 692, 'deserves': 693, 'including': 694, 'impressive': 695, 'ambiance': 696, 'cult': 697, 'recently': 698, 'roll': 699, 'premise': 700, 'dark': 701, 'able': 702, 'pocket': 703, 'puppet': 704, 'crazy': 705, 'seller': 706, 'leather': 707, 'owned': 708, 'heard': 709, 'visit': 710, 'later': 711, 'decision': 712, 'god': 713, 'favorite': 714, 'indeed': 715, 'drago': 716, 'eating': 717, 'mouth': 718, 'relationship': 719, 'headphone': 720, 'sturdy': 721, 'meaning': 722, 'massive': 723, 'attention': 724, 'easier': 725, 'generally': 726, 'unbelievable': 727, 'cute': 728, 'scamp': 729, 'rock': 730, 'imagination': 731, 'homemade': 732, 'greek': 733, 'dressing': 734, 'energy': 735, 'thoroughly': 736, 'event': 737, 'lion': 738, 'huston': 739, 'ruthless': 740, 'hell': 741, 'market': 742, 'enjoyable': 743, 'complain': 744, 'serious': 745, 'talent': 746, 'pro': 747, 'passed': 748, 'busy': 749, 'gross': 750, 'pack': 751, 'ten': 752, 'lovely': 753, 'included': 754, 'opened': 755, 'setup': 756, 'biscuit': 757, 'nobody': 758, 'showed': 759, 'carry': 760, 'silent': 761, 'complete': 762, 'sequel': 763, 'changing': 764, 'tone': 765, 'pretentious': 766, 'disgusting': 767, 'american': 768, 'pulled': 769, 'writer': 770, 'james': 771, 'asked': 772, 'chinese': 773, 'flat': 774, 'audience': 775, 'nearly': 776, 'cingular': 777, 'support': 778, 'speed': 779, 'sister': 780, 'baby': 781, 'lead': 782, 'already': 783, 'highlight': 784, 'bite': 785, 'eaten': 786, 'multiple': 787, 'martin': 788, 'static': 789, 'pleasant': 790, 'treat': 791, 'five': 792, 'dollar': 793, 'paid': 794, 'ipod': 795, 'wooden': 796, 'sweet': 797, 'mic': 798, 'checked': 799, 'seat': 800, 'taco': 801, 'delivers': 802, 'reviewer': 803, 'player': 804, 'describe': 805, 'q': 806, 'machine': 807, 'gadget': 808, 'contact': 809, 'plan': 810, 'checking': 811, 'station': 812, 'crowd': 813, 'comfortably': 814, 'lighting': 815, 'explain': 816, 'reasonably': 817, 'egg': 818, 'protection': 819, 'added': 820, 'bill': 821, 'woman': 822, 'worthwhile': 823, 'vegetarian': 824, 'fare': 825, 'nasty': 826, 'aspect': 827, 'vegetable': 828, 'form': 829, 'keypad': 830, 'clever': 831, 'unconvincing': 832, 'produced': 833, 'directed': 834, 'weird': 835, 'vibe': 836, 'scenery': 837, 'dry': 838, 'guest': 839, 'score': 840, 'mostly': 841, 'dance': 842, 'amazed': 843, 'dialog': 844, 'race': 845, 'master': 846, 'female': 847, 'returned': 848, 'lg': 849, 'age': 850, 'longer': 851, 'surprised': 852, 'ray': 853, 'charles': 854, 'stomach': 855, 'charming': 856, 'seating': 857, 'happier': 858, 'phoenix': 859, 'racial': 860, 'towards': 861, 'ice': 862, 'episode': 863, 'function': 864, 'intelligent': 865, 'overly': 866, 'clip': 867, 'south': 868, 'hummus': 869, 'pita': 870, 'edge': 871, 'somewhat': 872, 'honest': 873, 'space': 874, 'everywhere': 875, 'footage': 876, 'overpriced': 877, 'third': 878, 'excuse': 879, 'honestly': 880, 'animation': 881, 'comment': 882, 'fire': 883, 'summary': 884, 'tremendous': 885, 'expectation': 886, 'neither': 887, 'earbud': 888, 'wonderfully': 889, 'coverage': 890, 'los': 891, 'angeles': 892, 'bay': 893, 'hill': 894, 'ed': 895, 'driving': 896, 'supposedly': 897, 'change': 898, 'beginning': 899, 'strange': 900, 'considering': 901, 'sub': 902, 'history': 903, 'buyer': 904, 'samsung': 905, 'frozen': 906, 'graphic': 907, 'sequence': 908, 'clearly': 909, 'sprint': 910, 'plantronics': 911, 'exquisite': 912, 'close': 913, 'crisp': 914, 'stereotype': 915, 'scared': 916, 'balance': 917, 'unreliable': 918, 'cinema': 919, 'share': 920, 'ups': 921, 'knew': 922, 'im': 923, 'regular': 924, 'period': 925, 'mark': 926, 'cellphone': 927, 'bathroom': 928, 'putting': 929, 'lasting': 930, 'delish': 931, 'wearing': 932, 'live': 933, 'gem': 934, 'intelligence': 935, 'smart': 936, 'present': 937, 'tiny': 938, 'write': 939, 'sad': 940, 'italian': 941, 'early': 942, 'hip': 943, 'subway': 944, 'purchased': 945, 'speaker': 946, 'salt': 947, 'chewy': 948, 'sharp': 949, 'ate': 950, 'salmon': 951, 'pitiful': 952, 'bore': 953, 'known': 954, 'entertaining': 955, 'flip': 956, 'wasting': 957, 'billy': 958, 'appears': 959, 'holding': 960, 'belt': 961, 'iphone': 962, 'fear': 963, 'beautifully': 964, 'situation': 965, 'advise': 966, 'sat': 967, 'occupied': 968, 'nonsense': 969, 'effective': 970, 'painful': 971, 'person': 972, 'convincing': 973, 'breaking': 974, 'satisfied': 975, 'judge': 976, 'miyazaki': 977, 'fi': 978, 'outlet': 979, 'stink': 980, 'pricing': 981, 'razr': 982, 'insult': 983, 'chef': 984, 'generous': 985, 'lousy': 986, 'greatest': 987, 'clich': 988, 'immediately': 989, 'possibly': 990, 'otherwise': 991, 'appealing': 992, 'example': 993, 'killer': 994, 'duck': 995, 'thats': 996, 'nut': 997, 'combination': 998, 'conclusion': 999, 'single': 1000, 'forced': 1001, 'leaf': 1002, 'mexican': 1003, 'ball': 1004, 'mistake': 1005, 'anyway': 1006, 'strip': 1007, 'pork': 1008, 'gone': 1009, 'indulgent': 1010, 'angel': 1011, 'husband': 1012, 'bargain': 1013, 'flaw': 1014, 'match': 1015, 'sex': 1016, 'addition': 1017, 'establishment': 1018, 'soup': 1019, 'bartender': 1020, 'moist': 1021, 'girlfriend': 1022, 'hated': 1023, 'beep': 1024, 'power': 1025, 'creamy': 1026, 'flavorful': 1027, 'unacceptable': 1028, 'site': 1029, 'chance': 1030, 'type': 1031, 'visually': 1032, 'tribute': 1033, 'largely': 1034, 'son': 1035, 'member': 1036, 'identify': 1037, 'connery': 1038, 'steve': 1039, 'distorted': 1040, 'bean': 1041, 'rice': 1042, 'char': 1043, 'move': 1044, 'uplifting': 1045, 'allow': 1046, 'paced': 1047, 'relatively': 1048, 'ordering': 1049, 'sentiment': 1050, 'juice': 1051, 'touching': 1052, 'torture': 1053, 'replacement': 1054, 'trouble': 1055, 'serving': 1056, 'needle': 1057, 'contained': 1058, 'expert': 1059, 'satisfying': 1060, 'obvious': 1061, 'delivery': 1062, 'mature': 1063, 'build': 1064, 'slightest': 1065, 'dull': 1066, 'superbly': 1067, 'acted': 1068, 'user': 1069, 'ringing': 1070, 'plate': 1071, 'era': 1072, 'released': 1073, 'dvd': 1074, 'learn': 1075, 'acknowledged': 1076, 'struggle': 1077, 'stopped': 1078, 'reminded': 1079, 'brought': 1080, 'continue': 1081, 'pairing': 1082, 'somehow': 1083, 'dropping': 1084, 'manager': 1085, 'fabulous': 1086, 'vinegrette': 1087, 'laugh': 1088, 'smile': 1089, 'fair': 1090, 'laptop': 1091, 'blah': 1092, 'rotating': 1093, 'tap': 1094, 'shelf': 1095, 'faux': 1096, 'creates': 1097, 'dream': 1098, 'center': 1099, 'scare': 1100, 'tinny': 1101, 'roast': 1102, 'notice': 1103, 'worker': 1104, 'mad': 1105, 'save': 1106, 'jerk': 1107, 'accused': 1108, 'vx': 1109, 'rarely': 1110, 'catching': 1111, 'loop': 1112, 'material': 1113, 'brunch': 1114, 'lightweight': 1115, 'bt': 1116, 'group': 1117, 'rip': 1118, 'exactly': 1119, 'forgetting': 1120, 'contract': 1121, 'model': 1122, 'mother': 1123, 'balanced': 1124, 'pda': 1125, 'discount': 1126, 'handy': 1127, 'focused': 1128, 'provoking': 1129, 'commercial': 1130, 'mmmm': 1131, 'card': 1132, 'plugged': 1133, 'wayne': 1134, 'older': 1135, 'mid': 1136, 'consumer': 1137, 'jawbone': 1138, 'proud': 1139, 'microphone': 1140, 'jack': 1141, 'pad': 1142, 'mary': 1143, 'serf': 1144, 'provides': 1145, 'classy': 1146, 'improvement': 1147, 'happen': 1148, 'asleep': 1149, 'errol': 1150, 'flynn': 1151, 'favourite': 1152, 'fairly': 1153, 'whine': 1154, 'roasted': 1155, 'garlic': 1156, 'marrow': 1157, 'artist': 1158, 'heaven': 1159, 'unpredictable': 1160, 'uninteresting': 1161, 'drain': 1162, 'glove': 1163, 'secure': 1164, 'message': 1165, 'lie': 1166, 'de': 1167, 'cardboard': 1168, 'surprisingly': 1169, 'jean': 1170, 'blackberry': 1171, 'spend': 1172, 'tear': 1173, 'gonna': 1174, 'theater': 1175, 'impeccable': 1176, 'technology': 1177, 'genre': 1178, 'earphone': 1179, 'open': 1180, 'relation': 1181, 'hole': 1182, 'whiny': 1183, 'pointless': 1184, 'tuna': 1185, 'sashimi': 1186, 'wilkinson': 1187, 'male': 1188, 'america': 1189, 'jamie': 1190, 'refund': 1191, 'late': 1192, 'viewing': 1193, 'sit': 1194, 'lived': 1195, 'stepped': 1196, 'fill': 1197, 'presence': 1198, 'junkyard': 1199, 'mayo': 1200, 'drag': 1201, 'hero': 1202, 'freedom': 1203, 'joint': 1204, 'loose': 1205, 'receive': 1206, 'definately': 1207, 'throughout': 1208, 'hence': 1209, 'certain': 1210, 'rubber': 1211, 'smell': 1212, 'unbearable': 1213, 'caused': 1214, 'middle': 1215, 'gripping': 1216, 'stage': 1217, 'experienced': 1218, 'communication': 1219, 'normal': 1220, 'revealing': 1221, 'africa': 1222, 'afraid': 1223, 'sublime': 1224, 'edible': 1225, 'texture': 1226, 'nature': 1227, 'wave': 1228, 'deep': 1229, 'awkwardly': 1230, 'english': 1231, 'numerous': 1232, 'buzzing': 1233, 'override': 1234, 'badly': 1235, 'returning': 1236, 'limited': 1237, 'crab': 1238, 'leg': 1239, 'red': 1240, 'crafted': 1241, 'paul': 1242, 'bold': 1243, 'recognition': 1244, 'stuff': 1245, 'stayed': 1246, 'cream': 1247, 'finished': 1248, 'logitech': 1249, 'exceptional': 1250, 'forever': 1251, 'fx': 1252, 'unique': 1253, 'blew': 1254, 'gold': 1255, 'standard': 1256, 'understated': 1257, 'club': 1258, 'via': 1259, 'angry': 1260, 'pho': 1261, 'modest': 1262, 'terribly': 1263, 'g': 1264, 'mom': 1265, 'pop': 1266, 'shop': 1267, 'shipped': 1268, 'promptly': 1269, 'cease': 1270, 'jonah': 1271, 'switch': 1272, 'sending': 1273, 'lightly': 1274, 'state': 1275, 'sandra': 1276, 'bullock': 1277, 'chilly': 1278, 'culture': 1279, 'photography': 1280, 'composition': 1281, 'casting': 1282, 'install': 1283, 'remake': 1284, 'beware': 1285, 'pc': 1286, 'r': 1287, 'behind': 1288, 'nacho': 1289, 'unusable': 1290, 'hollow': 1291, 'apart': 1292, 'twist': 1293, 'jimmy': 1294, 'doubt': 1295, 'buying': 1296, 'bonus': 1297, 'alone': 1298, 'visual': 1299, 'wonder': 1300, 'oscar': 1301, 'extraordinary': 1302, 'cutout': 1303, 'tension': 1304, 'grilled': 1305, 'past': 1306, 'process': 1307, 'managed': 1308, 'nun': 1309, 'church': 1310, 'begin': 1311, 'toasted': 1312, 'equally': 1313, 'butter': 1314, 'b': 1315, 'dying': 1316, 'speak': 1317, 'gyro': 1318, 'genius': 1319, 'evil': 1320, 'discovering': 1321, 'falling': 1322, 'length': 1323, 'current': 1324, 'read': 1325, 'realized': 1326, 'brilliance': 1327, 'depicts': 1328, 'atrocious': 1329, 'thus': 1330, 'study': 1331, 'interested': 1332, 'lobster': 1333, 'basic': 1334, 'focus': 1335, 'span': 1336, 'vomited': 1337, 'subject': 1338, 'major': 1339, 'mushroom': 1340, 'puree': 1341, 'cafe': 1342, 'placed': 1343, 'treo': 1344, 'hurt': 1345, 'push': 1346, 'greeted': 1347, 'sunglass': 1348, 'transfer': 1349, 'issue': 1350, 'narrative': 1351, 'connected': 1352, 'h': 1353, 'pile': 1354, 'exterior': 1355, 'display': 1356, 'charisma': 1357, 'neighborhood': 1358, 'pepper': 1359, 'term': 1360, 'e': 1361, 'access': 1362, 'macbeth': 1363, 'brief': 1364, 'moral': 1365, 'decay': 1366, 'force': 1367, 'positive': 1368, 'update': 1369, 'procedure': 1370, 'act': 1371, 'villain': 1372, 'filling': 1373, 'omg': 1374, 'delivering': 1375, 'box': 1376, 'tech': 1377, 'modern': 1378, 'cheaper': 1379, 'decor': 1380, 'door': 1381, 'future': 1382, 'apparently': 1383, 'batter': 1384, 'appearance': 1385, 'lange': 1386, 'constructed': 1387, 'bear': 1388, 'war': 1389, 'refreshing': 1390, 'blow': 1391, 'refused': 1392, 'fox': 1393, 'schrader': 1394, 'mishima': 1395, 'complex': 1396, 'noticed': 1397, 'fascinating': 1398, 'flawed': 1399, 'core': 1400, 'holster': 1401, 'thank': 1402, 'mood': 1403, 'hopefully': 1404, 'volcano': 1405, 'prime': 1406, 'receiving': 1407, 'gas': 1408, 'handled': 1409, 'brick': 1410, 'oven': 1411, 'thrilled': 1412, 'boyfriend': 1413, 'designed': 1414, 'fifteen': 1415, 'operate': 1416, 'promise': 1417, 'deliver': 1418, 'treated': 1419, 'fly': 1420, 'sitting': 1421, 'finger': 1422, 'indoor': 1423, 'interest': 1424, 'die': 1425, 'careful': 1426, 'element': 1427, 'buck': 1428, 'brain': 1429, 'create': 1430, 'confusing': 1431, 'engaging': 1432, 'embarrassing': 1433, 'maintain': 1434, 'previous': 1435, 'f': 1436, 'mickey': 1437, 'mouse': 1438, 'following': 1439, 'earlier': 1440, 'famous': 1441, 'ground': 1442, 'hype': 1443, 'inexpensive': 1444, 'boot': 1445, 'spice': 1446, 'warning': 1447, 'ripped': 1448, 'european': 1449, 'insulted': 1450, 'latest': 1451, 'studio': 1452, 'ponyo': 1453, 'sea': 1454, 'imaginative': 1455, 'disgrace': 1456, 'excellently': 1457, 'sci': 1458, 'fulci': 1459, 'giallo': 1460, 'zombie': 1461, 'thru': 1462, 'lock': 1463, 'underwhelming': 1464, 'public': 1465, 'soul': 1466, 'wrap': 1467, 'melt': 1468, 'finish': 1469, 'accidentally': 1470, 'listening': 1471, 'c': 1472, 'four': 1473, 'screenwriter': 1474, 'betty': 1475, 'resolution': 1476, 'cheesy': 1477, 'scallop': 1478, 'th': 1479, 'century': 1480, 'wide': 1481, 'salsa': 1482, 'lover': 1483, 'usb': 1484, 'add': 1485, 'employee': 1486, 'complaint': 1487, 'assure': 1488, 'psychological': 1489, 'shower': 1490, 'assistant': 1491, 'unhappy': 1492, 'coupon': 1493, 'grossed': 1494, 'true': 1495, 'called': 1496, 'trash': 1497, 'crashed': 1498, 'hollywood': 1499, 'remotely': 1500, 'frightening': 1501, 'flawlessly': 1502, 'sleek': 1503, 'practical': 1504, 'ample': 1505, 'spent': 1506, 'purpose': 1507, 'bacon': 1508, 'winner': 1509, 'combo': 1510, 'opening': 1511, 'looked': 1512, 'microsoft': 1513, 'sake': 1514, 'prompt': 1515, 'imagine': 1516, 'choose': 1517, 'noir': 1518, 'implausible': 1519, 'incredibly': 1520, 'disaster': 1521, 'weight': 1522, 'building': 1523, 'dumb': 1524, 'hair': 1525, 'wing': 1526, 'driest': 1527, 'disturbing': 1528, 'missed': 1529, 'curry': 1530, 'paper': 1531, 'thick': 1532, 'frustration': 1533, 'serve': 1534, 'surprising': 1535, 'downtown': 1536, 'court': 1537, 'doctor': 1538, 'quinn': 1539, 'dozen': 1540, 'laughable': 1541, 'figure': 1542, 'noteworthy': 1543, 'coffee': 1544, 'sliced': 1545, 'kinda': 1546, 'dangerous': 1547, 'humorous': 1548, 'fully': 1549, 'sounded': 1550, 'sharply': 1551, 'opinion': 1552, 'odd': 1553, 'nicest': 1554, 'masterful': 1555, 'versus': 1556, 'concern': 1557, 'sugary': 1558, 'enter': 1559, 'essentially': 1560, 'ok': 1561, 'singing': 1562, 'june': 1563, 'development': 1564, 'depth': 1565, 'taylor': 1566, 'stanwyck': 1567, 'additional': 1568, 'gel': 1569, 'conflict': 1570, 'refill': 1571, 'proceeding': 1572, 'trilogy': 1573, 'covered': 1574, 'rank': 1575, 'student': 1576, 'removing': 1577, 'entree': 1578, 'turkey': 1579, 'functionality': 1580, 'pan': 1581, 'reader': 1582, 'lose': 1583, 'properly': 1584, 'cook': 1585, 'brings': 1586, 'pancake': 1587, 'dealing': 1588, 'sort': 1589, 'masterpiece': 1590, 'french': 1591, 'lazy': 1592, 'letting': 1593, 'excited': 1594, 'underlying': 1595, 'quiet': 1596, 'pathetic': 1597, 'dirt': 1598, 'lane': 1599, 'advertised': 1600, 'toast': 1601, 'understanding': 1602, 'scream': 1603, 'step': 1604, 'recharge': 1605, 'source': 1606, 'circumstance': 1607, 'bowl': 1608, 'timeframe': 1609, 'scale': 1610, 'yum': 1611, 'costume': 1612, 'view': 1613, 'slim': 1614, 'joe': 1615, 'hardly': 1616, 'duet': 1617, 'astronaut': 1618, 'defective': 1619, 'legit': 1620, 'ring': 1621, 'stretch': 1622, 'slide': 1623, 'grip': 1624, 'prevents': 1625, 'slipping': 1626, 'tracfone': 1627, 'excrutiatingly': 1628, 'crouton': 1629, 'packed': 1630, 'realised': 1631, 'filmography': 1632, 'regardless': 1633, 'monumental': 1634, 'christopher': 1635, 'eccleston': 1636, 'tardis': 1637, 'continuation': 1638, 'collect': 1639, 'extant': 1640, 'austen': 1641, 'skip': 1642, 'hereas': 1643, 'held': 1644, 'sean': 1645, 'noble': 1646, 'brigand': 1647, 'candace': 1648, 'bergen': 1649, 'feisty': 1650, 'heroine': 1651, 'wily': 1652, 'hay': 1653, 'kanaly': 1654, 'spiffy': 1655, 'radiant': 1656, 'lieutenant': 1657, 'roosevelt': 1658, 'stick': 1659, 'att': 1660, 'yell': 1661, 'accompanied': 1662, 'mine': 1663, 'christmas': 1664, 'pale': 1665, 'sophisticated': 1666, 'miserably': 1667, 'lewis': 1668, 'considerable': 1669, 'incendiary': 1670, 'unrestrained': 1671, 'suited': 1672, 'inconsiderate': 1673, 'saved': 1674, 'alot': 1675, 'arriving': 1676, 'breakage': 1677, 'unacceptible': 1678, 'chill': 1679, 'steer': 1680, 'replacementr': 1681, 'pen': 1682, 'nine': 1683, 'handed': 1684, 'listed': 1685, 'track': 1686, 'command': 1687, 'contributing': 1688, 'ac': 1689, 'highy': 1690, 'evaluate': 1691, 'merit': 1692, 'akin': 1693, 'dee': 1694, 'snider': 1695, 'died': 1696, 'anytime': 1697, 'ri': 1698, 'calamari': 1699, 'angela': 1700, 'bennett': 1701, 'lesser': 1702, 'smoothly': 1703, 'neighbour': 1704, 'misplace': 1705, 'jim': 1706, 'connor': 1707, 'energetic': 1708, 'george': 1709, 'tracfonewebsite': 1710, 'toactivate': 1711, 'intermittently': 1712, 'martini': 1713, 'rge': 1714, 'fillet': 1715, 'relleno': 1716, 'garbo': 1717, 'bat': 1718, 'netflix': 1719, 'stocking': 1720, 'minor': 1721, 'inspiring': 1722, 'heel': 1723, 'chosen': 1724, 'tortured': 1725, 'blatant': 1726, 'propaganda': 1727, 'madison': 1728, 'ironman': 1729, 'composed': 1730, 'dine': 1731, 'weekend': 1732, 'rickman': 1733, 'stowe': 1734, 'hilt': 1735, 'childrens': 1736, 'subversive': 1737, 'tract': 1738, 'cheesecurds': 1739, 'evinced': 1740, 'faithful': 1741, 'adaptation': 1742, 'joyce': 1743, 'acclaimed': 1744, 'novella': 1745, 'interview': 1746, 'vampire': 1747, 'lestat': 1748, 'stuart': 1749, 'townsend': 1750, 'cruise': 1751, 'periodically': 1752, 'warranty': 1753, 'reoccure': 1754, 'bottom': 1755, 'somewhere': 1756, 'peanut': 1757, 'reccommend': 1758, 'picked': 1759, 'providing': 1760, 'redeemed': 1761, 'mst': 1762, 'k': 1763, 'fodder': 1764, 'milkshake': 1765, 'chocolate': 1766, 'milk': 1767, 'okay': 1768, 'critic': 1769, 'creature': 1770, 'idiot': 1771, 'savant': 1772, 'educational': 1773, 'professor': 1774, 'earpad': 1775, 'download': 1776, 'ir': 1777, 'send': 1778, 'crash': 1779, 'depressing': 1780, 'provokes': 1781, 'teach': 1782, 'racism': 1783, 'prejudice': 1784, 'hooked': 1785, 'damian': 1786, 'talented': 1787, 'versatile': 1788, 'portraying': 1789, 'southern': 1790, 'california': 1791, 'desert': 1792, 'patent': 1793, 'watkins': 1794, 'healthy': 1795, 'ethic': 1796, 'motor': 1797, 'voltage': 1798, 'humming': 1799, 'equipment': 1800, 'interplay': 1801, 'emilio': 1802, 'contains': 1803, 'street': 1804, 'charlie': 1805, 'seperated': 1806, 'mere': 1807, 'ft': 1808, 'excessive': 1809, 'garbled': 1810, 'genuinely': 1811, 'enthusiastic': 1812, 'humiliated': 1813, 'name': 1814, 'calling': 1815, 'ticket': 1816, 'specially': 1817, 'creak': 1818, 'floor': 1819, 'apartment': 1820, 'debated': 1821, 'sack': 1822, 'trumpeter': 1823, 'falsely': 1824, 'murder': 1825, 'pure': 1826, 'eargels': 1827, 'aluminum': 1828, 'protected': 1829, 'handheld': 1830, 'steep': 1831, 'regrettably': 1832, 'plethora': 1833, 'seal': 1834, 'approval': 1835, 'telly': 1836, 'savalas': 1837, 'peter': 1838, 'boyle': 1839, 'ventilation': 1840, 'upgrading': 1841, 'daily': 1842, 'ignored': 1843, 'hostess': 1844, 'strives': 1845, 'greatness': 1846, 'poetry': 1847, 'muddled': 1848, 'disparate': 1849, 'accurately': 1850, 'defined': 1851, 'surefire': 1852, 'gx': 1853, 'latched': 1854, 'endearing': 1855, 'linked': 1856, 'smartphone': 1857, 'usable': 1858, 'useful': 1859, 'neat': 1860, 'military': 1861, 'miss': 1862, 'philadelphia': 1863, 'luck': 1864, 'psyched': 1865, 'appointment': 1866, 'convey': 1867, 'broad': 1868, 'sweep': 1869, 'landscape': 1870, 'gooodd': 1871, 'matrix': 1872, 'mindblowing': 1873, 'misleading': 1874, 'honeslty': 1875, 'veggitarian': 1876, 'platter': 1877, 'cape': 1878, 'cod': 1879, 'ravoli': 1880, 'cranberry': 1881, 'melville': 1882, 'shame': 1883, 'thomerson': 1884, 'potted': 1885, 'plant': 1886, 'igo': 1887, 'darn': 1888, 'industry': 1889, 'earbugs': 1890, 'crepe': 1891, 'craving': 1892, 'key': 1893, 'lit': 1894, 'casted': 1895, 'besides': 1896, 'costco': 1897, 'politically': 1898, 'correct': 1899, 'bloody': 1900, 'gratuity': 1901, 'larger': 1902, 'occasion': 1903, 'medium': 1904, 'bloodiest': 1905, 'irritating': 1906, 'crack': 1907, 'custer': 1908, 'theatre': 1909, 'iam': 1910, 'muppets': 1911, 'hoped': 1912, 'crema': 1913, 'caf': 1914, 'expanded': 1915, 'bone': 1916, 'omit': 1917, 'kiddos': 1918, 'manna': 1919, 'becomes': 1920, 'forgettable': 1921, 'portable': 1922, 'preparing': 1923, 'existing': 1924, 'cd': 1925, 'snap': 1926, 'styling': 1927, 'frog': 1928, 'durable': 1929, 'mail': 1930, 'backlight': 1931, 'madhouse': 1932, 'applause': 1933, 'prelude': 1934, 'ngage': 1935, 'earbuds': 1936, 'contrast': 1937, 'engineered': 1938, 'construction': 1939, 'alongside': 1940, 'olivia': 1941, 'havilland': 1942, 'blandly': 1943, 'edward': 1944, 'chodorov': 1945, 'negulesco': 1946, 'linking': 1947, 'curve': 1948, 'touched': 1949, 'bulky': 1950, 'colleague': 1951, 'bloddy': 1952, 'shed': 1953, 'saving': 1954, 'paint': 1955, 'photograph': 1956, 'hosting': 1957, 'over': 1958, 'monotonous': 1959, 'wanting': 1960, 'perfection': 1961, 'disapointing': 1962, 'natural': 1963, 'sketchy': 1964, 'fav': 1965, 'couldnt': 1966, 'timeless': 1967, 'smudged': 1968, 'semi': 1969, 'truck': 1970, 'hurry': 1971, 'nevertheless': 1972, 'stable': 1973, 'brownish': 1974, 'judging': 1975, 'fumbling': 1976, 'hanky': 1977, 'among': 1978, 'alike': 1979, 'arguing': 1980, 'regarding': 1981, 'uncomfortable': 1982, 'env': 1983, 'rendering': 1984, 'imperial': 1985, 'foxx': 1986, 'refuse': 1987, 'relaxing': 1988, 'cliche': 1989, 'parent': 1990, 'predict': 1991, 'verbatim': 1992, 'binge': 1993, 'drinking': 1994, 'carbs': 1995, 'animal': 1996, 'integration': 1997, 'romantic': 1998, 'laughed': 1999, 'slaw': 2000, 'drenched': 2001, 'panna': 2002, 'cotta': 2003, 'patio': 2004, 'spends': 2005, 'talking': 2006, 'similarly': 2007, 'apology': 2008, 'fliptop': 2009, 'wobbly': 2010, 'eventually': 2011, 'stereo': 2012, 'petroleum': 2013, 'ergonomic': 2014, 'theory': 2015, 'stand': 2016, 'saggy': 2017, 'floppy': 2018, 'ironically': 2019, 'littered': 2020, 'overt': 2021, 'slur': 2022, 'depicted': 2023, 'moron': 2024, 'boob': 2025, 'colder': 2026, 'thunderbird': 2027, 'pushed': 2028, 'relate': 2029, 'aged': 2030, 'upper': 2031, 'class': 2032, 'uptight': 2033, 'theatrical': 2034, 'terror': 2035, 'escalating': 2036, 'monstrous': 2037, 'consequence': 2038, 'frenchman': 2039, 'unbelievably': 2040, 'entertainment': 2041, 'activesync': 2042, 'optimal': 2043, 'synchronization': 2044, 'wake': 2045, 'complexity': 2046, 'task': 2047, 'challenge': 2048, 'facing': 2049, 'personally': 2050, 'baklava': 2051, 'falafel': 2052, 'baba': 2053, 'ganoush': 2054, 'eggplant': 2055, 'fondue': 2056, 'double': 2057, 'cheeseburger': 2058, 'unneeded': 2059, 'controversy': 2060, 'powerful': 2061, 'exploration': 2062, 'surf': 2063, 'impact': 2064, 'armageddon': 2065, 'elderly': 2066, 'babbling': 2067, 'overwrought': 2068, 'pseudo': 2069, 'satanic': 2070, 'gibberish': 2071, 'corny': 2072, 'teen': 2073, 'goth': 2074, 'blush': 2075, 'olde': 2076, 'latin': 2077, 'cashier': 2078, 'wayyy': 2079, 'crackle': 2080, 'youthful': 2081, 'concentrate': 2082, 'meander': 2083, 'inexcusable': 2084, 'carrier': 2085, 'boiled': 2086, 'iq': 2087, 'mollusk': 2088, 'remarkable': 2089, 'posted': 2090, 'detailed': 2091, 'grey': 2092, 'kindle': 2093, 'ugly': 2094, 'haggis': 2095, 'handle': 2096, 'stroke': 2097, 'storytelling': 2098, 'painted': 2099, 'crayon': 2100, 'indescribably': 2101, 'idiotic': 2102, 'ribeye': 2103, 'mesquite': 2104, 'rolled': 2105, 'chipolte': 2106, 'ranch': 2107, 'dipping': 2108, 'sause': 2109, 'watered': 2110, 'heat': 2111, 'manages': 2112, 'transcend': 2113, 'limitation': 2114, 'indie': 2115, 'continually': 2116, 'subverting': 2117, 'emerge': 2118, 'intense': 2119, 'trek': 2120, 'frontier': 2121, 'vanilla': 2122, 'smooth': 2123, 'profiterole': 2124, 'chou': 2125, 'pastry': 2126, 'rough': 2127, 'draft': 2128, 'shooting': 2129, 'began': 2130, 'completed': 2131, 'majority': 2132, 'forty': 2133, 'vain': 2134, 'luke': 2135, 'sever': 2136, 'overwhelmed': 2137, 'juano': 2138, 'hernandez': 2139, 'supporting': 2140, 'murdering': 2141, 'liking': 2142, 'reviewing': 2143, 'storm': 2144, 'trooper': 2145, 'choked': 2146, 'vomit': 2147, 'pacing': 2148, 'courtroom': 2149, 'join': 2150, 'email': 2151, 'cellular': 2152, 'fo': 2153, 'donut': 2154, 'builder': 2155, 'cross': 2156, 'ians': 2157, 'reminds': 2158, 'san': 2159, 'francisco': 2160, 'weekly': 2161, 'haunt': 2162, 'kieslowski': 2163, 'amaze': 2164, 'concrete': 2165, 'knock': 2166, 'wood': 2167, 'co': 2168, 'morgan': 2169, 'freeman': 2170, 'helm': 2171, 'biographical': 2172, 'musician': 2173, 'rocketed': 2174, 'destination': 2175, 'unknown': 2176, 'con': 2177, 'spotty': 2178, 'evidently': 2179, 'usage': 2180, 'ben': 2181, 'affleck': 2182, 'leaving': 2183, 'chick': 2184, 'knocked': 2185, 'jennifer': 2186, 'rubin': 2187, 'harris': 2188, 'nervous': 2189, 'starlet': 2190, 'pace': 2191, 'raw': 2192, 'sublimely': 2193, 'unremarkable': 2194, 'author': 2195, 'abstruse': 2196, 'satisifed': 2197, 'based': 2198, 'gratitude': 2199, 'redeeming': 2200, 'followed': 2201, 'pair': 2202, 'faultless': 2203, 'underappreciated': 2204, 'brian': 2205, 'keith': 2206, 'bully': 2207, 'teddy': 2208, 'vivid': 2209, 'recall': 2210, 'grade': 2211, 'z': 2212, 'legendary': 2213, 'gosh': 2214, 'magical': 2215, 'wedding': 2216, 'flush': 2217, 'toilet': 2218, 'metro': 2219, 'sch': 2220, 'slider': 2221, 'sony': 2222, 'premium': 2223, 'puck': 2224, 'disgust': 2225, 'register': 2226, 'zillion': 2227, 'reality': 2228, 'repeating': 2229, 'robotic': 2230, 'concert': 2231, 'hankering': 2232, 'shell': 2233, 'normally': 2234, 'haul': 2235, 'personality': 2236, 'occur': 2237, 'stewart': 2238, 'climax': 2239, 'embassy': 2240, 'brooding': 2241, 'menace': 2242, 'han': 2243, 'nan': 2244, 'smack': 2245, 'spec': 2246, 'inventive': 2247, 'elegant': 2248, 'pointillistic': 2249, 'behold': 2250, 'wondered': 2251, 'shortlist': 2252, 'identifies': 2253, 'predictably': 2254, 'reverse': 2255, 'horrified': 2256, 'sympathetic': 2257, 'medical': 2258, 'terminology': 2259, 'iffy': 2260, 'insulin': 2261, 'dependant': 2262, 'diabetic': 2263, 'awkward': 2264, 'yellow': 2265, 'saffron': 2266, 'seasoning': 2267, 'attempted': 2268, 'truth': 2269, 'reconciliation': 2270, 'confirm': 2271, 'unfunny': 2272, 'generic': 2273, 'exaggerating': 2274, 'trailer': 2275, 'protects': 2276, 'strength': 2277, 'ursula': 2278, 'burton': 2279, 'stood': 2280, 'az': 2281, 'occasional': 2282, 'pat': 2283, 'efficient': 2284, 'decidely': 2285, 'universal': 2286, 'father': 2287, 'walkman': 2288, 'dissapointing': 2289, 'missing': 2290, 'realize': 2291, 'sweetest': 2292, 'officially': 2293, 'phantasm': 2294, 'pretext': 2295, 'adapter': 2296, 'provide': 2297, 'macarons': 2298, 'insanely': 2299, 'closed': 2300, 'linear': 2301, 'narration': 2302, 'flashback': 2303, 'articulated': 2304, 'worn': 2305, 'sin': 2306, 'industrial': 2307, 'caballero': 2308, 'owl': 2309, 'upstairs': 2310, 'basement': 2311, 'maine': 2312, 'sidelined': 2313, 'inexplicable': 2314, 'crew': 2315, 'exclaim': 2316, 'whoa': 2317, 'uneasy': 2318, 'jay': 2319, 'adam': 2320, 'unfortunate': 2321, 'neil': 2322, 'evokes': 2323, 'tied': 2324, 'mixed': 2325, 'yukon': 2326, 'corn': 2327, 'beateous': 2328, 'holder': 2329, 'snug': 2330, 'embarassing': 2331, 'fianc': 2332, 'hank': 2333, 'freeze': 2334, 'frequently': 2335, 'sitcom': 2336, 'oriented': 2337, 'teenager': 2338, 'hat': 2339, 'otto': 2340, 'welcome': 2341, 'speakerphone': 2342, 'roam': 2343, 'string': 2344, 'school': 2345, 'round': 2346, 'general': 2347, 'loewenhielm': 2348, 'partaking': 2349, 'cailles': 2350, 'en': 2351, 'sarcophage': 2352, 'sample': 2353, 'savor': 2354, 'calendar': 2355, 'sync': 2356, 'portrait': 2357, 'convenient': 2358, 'sergeant': 2359, 'auju': 2360, 'screenplay': 2361, 'post': 2362, 'translating': 2363, 'offensive': 2364, 'as': 2365, 'uncalled': 2366, 'artless': 2367, 'endlessly': 2368, 'ugliest': 2369, 'imaginable': 2370, 'instance': 2371, 'yummy': 2372, 'explains': 2373, 'sinister': 2374, 'origin': 2375, 'jason': 2376, 'moved': 2377, 'monolog': 2378, 'candle': 2379, 'sphere': 2380, 'steamboat': 2381, 'willie': 2382, 'amazingly': 2383, 'sunday': 2384, 'empowerment': 2385, 'cumbersome': 2386, 'entertained': 2387, 'toon': 2388, 'delivered': 2389, 'popular': 2390, 'underrated': 2391, 'scary': 2392, 'sleep': 2393, 'exceptionally': 2394, 'anyways': 2395, 'unlike': 2396, 'imagined': 2397, 'mesmerising': 2398, 'improved': 2399, 'improvisation': 2400, 'worry': 2401, 'count': 2402, 'guacamole': 2403, 'pur': 2404, 'stated': 2405, 'wiping': 2406, 'furthermore': 2407, 'operation': 2408, 'maintaining': 2409, 'coziness': 2410, 'competitor': 2411, 'soft': 2412, 'tight': 2413, 'shape': 2414, 'meet': 2415, 'avoiding': 2416, 'dimensional': 2417, 'quit': 2418, 'gotten': 2419, 'initially': 2420, 'local': 2421, 'filmed': 2422, 'buffalo': 2423, 'intrigued': 2424, 'louder': 2425, 'bachi': 2426, 'recommendation': 2427, 'wit': 2428, 'soyo': 2429, 'do': 2430, 'gringo': 2431, 'roth': 2432, 'pearl': 2433, 'navigate': 2434, 'recessed': 2435, 'humor': 2436, 'dosen': 2437, 'involves': 2438, 'vulcan': 2439, 'stealing': 2440, 'enterprise': 2441, 'uhura': 2442, 'distract': 2443, 'guard': 2444, 'remorse': 2445, 'kill': 2446, 'momentum': 2447, 'quicker': 2448, 'block': 2449, 'judith': 2450, 'figured': 2451, 'publicly': 2452, 'loudly': 2453, 'texas': 2454, 'friday': 2455, 'anymore': 2456, 'channel': 2457, 'nonetheless': 2458, 'cingulair': 2459, 'nicer': 2460, 'universe': 2461, 'awsome': 2462, 'yawn': 2463, 'pricey': 2464, 'mac': 2465, 'travled': 2466, 'swivel': 2467, 'cox': 2468, 'win': 2469, 'elia': 2470, 'koteas': 2471, 'palance': 2472, 'angelina': 2473, 'naked': 2474, 'usual': 2475, 'cameo': 2476, 'sven': 2477, 'ole': 2478, 'thorsen': 2479, 'shakespears': 2480, 'lyric': 2481, 'paying': 2482, 'wienerschnitzel': 2483, 'michael': 2484, 'ironside': 2485, 'rib': 2486, 'section': 2487, 'sorely': 2488, 'caterpillar': 2489, 'keeping': 2490, 'inspiration': 2491, 'overcome': 2492, 'rejection': 2493, 'mainly': 2494, 'explosion': 2495, 'tank': 2496, 'abysmal': 2497, 'ensued': 2498, 'claimed': 2499, 'app': 2500, 'fucking': 2501, 'accommodation': 2502, 'elegantly': 2503, 'decorated': 2504, 'sloppy': 2505, 'um': 2506, 'proudly': 2507, 'classical': 2508, 'wb': 2509, 'allowing': 2510, 'format': 2511, 'mini': 2512, 'baaaaaad': 2513, 'offend': 2514, 'flavorless': 2515, 'describing': 2516, 'tepid': 2517, 'unwatchable': 2518, 'spaghetti': 2519, 'performed': 2520, 'apple': 2521, 'dressed': 2522, 'rudely': 2523, 'shouldve': 2524, 'invented': 2525, 'sooner': 2526, 'subtitle': 2527, 'aversion': 2528, 'therapy': 2529, 'camerawork': 2530, 'asking': 2531, 'condescends': 2532, 'leopard': 2533, 'print': 2534, 'wild': 2535, 'background': 2536, 'distracting': 2537, 'douchey': 2538, 'garden': 2539, 'tea': 2540, 'spinach': 2541, 'avocado': 2542, 'ingredient': 2543, 'uniqueness': 2544, 'tiramisu': 2545, 'cannoli': 2546, 'insane': 2547, 'technically': 2548, 'riz': 2549, 'ortolani': 2550, 'recurring': 2551, 'unaccompanied': 2552, 'vocal': 2553, 'distant': 2554, 'excessively': 2555, 'phony': 2556, 'contrived': 2557, 'shut': 2558, 'primal': 2559, 'impulse': 2560, 'preservation': 2561, 'subplots': 2562, 'native': 2563, 'brainsucking': 2564, 'exemplar': 2565, 'designer': 2566, 'sexy': 2567, 'outrageously': 2568, 'flirting': 2569, 'hottest': 2570, 'continuously': 2571, 'bertolucci': 2572, 'infuriating': 2573, 'monkey': 2574, 'dna': 2575, 'copy': 2576, 'x': 2577, 'convoluted': 2578, 'convince': 2579, 'questioning': 2580, 'glance': 2581, 'plane': 2582, 'utter': 2583, 'unconditional': 2584, 'flavored': 2585, 'magnificent': 2586, 'blueant': 2587, 'supertooth': 2588, 'airport': 2589, 'speedy': 2590, 'pray': 2591, 'seasonal': 2592, 'fruit': 2593, 'peach': 2594, 'jessice': 2595, 'clothes': 2596, 'article': 2597, 'dustin': 2598, 'hoffman': 2599, 'remember': 2600, 'sens': 2601, 'assaulted': 2602, 'strident': 2603, 'cord': 2604, 'blare': 2605, 'sucker': 2606, 'banana': 2607, 'petrified': 2608, 'disrespected': 2609, 'condition': 2610, 'hayao': 2611, 'eighth': 2612, 'ghibili': 2613, 'gake': 2614, 'ue': 2615, 'cliff': 2616, 'childhood': 2617, 'producer': 2618, 'scot': 2619, 'vandiver': 2620, 'sensor': 2621, 'evening': 2622, 'drastically': 2623, 'supernatural': 2624, 'handset': 2625, 'o': 2626, 'crawl': 2627, 'ninja': 2628, 'bbq': 2629, 'lighter': 2630, 'lasted': 2631, 'usefulness': 2632, 'clarity': 2633, 'journey': 2634, 'sharing': 2635, 'tremendously': 2636, 'meatloaf': 2637, 'crispy': 2638, 'sooooo': 2639, 'cheaply': 2640, 'lemon': 2641, 'raspberry': 2642, 'cocktail': 2643, 'profound': 2644, 'deuchebaggery': 2645, 'smoke': 2646, 'solidify': 2647, 'idyllic': 2648, 'down': 2649, 'scripting': 2650, 'unmatched': 2651, 'starring': 2652, 'jaclyn': 2653, 'smith': 2654, 'actual': 2655, 'activate': 2656, 'gentle': 2657, 'decide': 2658, 'ahead': 2659, 'warmer': 2660, 'ratio': 2661, 'unsatisfying': 2662, 'resume': 2663, 'amateurish': 2664, 'northern': 2665, 'humour': 2666, 'community': 2667, 'represents': 2668, 'grtting': 2669, 'compliment': 2670, 'intention': 2671, 'surely': 2672, 'coherent': 2673, 'air': 2674, 'obliged': 2675, 'sum': 2676, 'charismatic': 2677, 'emily': 2678, 'watson': 2679, 'nurse': 2680, 'unpredictability': 2681, 'megapixels': 2682, 'render': 2683, 'image': 2684, 'shawarrrrrrma': 2685, 'cheerless': 2686, 'heist': 2687, 'characterisation': 2688, 'underbite': 2689, 'stoic': 2690, 'emoting': 2691, 'chow': 2692, 'yun': 2693, 'fat': 2694, 'tomorrow': 2695, 'thrown': 2696, 'abandoned': 2697, 'factory': 2698, 'executed': 2699, 'flying': 2700, 'judo': 2701, 'la': 2702, 'woo': 2703, 'bruschetta': 2704, 'devine': 2705, 'appalling': 2706, 'unfolds': 2707, 'jutland': 2708, 'instrument': 2709, 'excerpt': 2710, 'cutting': 2711, 'hockey': 2712, 'defensemen': 2713, 'goalie': 2714, 'diving': 2715, 'net': 2716, 'dancing': 2717, 'title': 2718, 'theft': 2719, 'ca': 2720, 'unexperienced': 2721, 'secondly': 2722, 'perfected': 2723, 'chase': 2724, 'gifted': 2725, 'snow': 2726, 'smeared': 2727, 'tracked': 2728, 'bird': 2729, 'poop': 2730, 'eclectic': 2731, 'aimless': 2732, 'distressed': 2733, 'drifting': 2734, 'stale': 2735, 'riingtones': 2736, 'allot': 2737, 'clearer': 2738, 'compromise': 2739, 'qwerty': 2740, 'bendingly': 2741, 'upbeat': 2742, 'detailing': 2743, 'loyalty': 2744, 'treachery': 2745, 'tolerance': 2746, 'polite': 2747, 'wash': 2748, 'simpler': 2749, 'north': 2750, 'scottsdale': 2751, 'loudspeaker': 2752, 'bumper': 2753, 'rita': 2754, 'hayworth': 2755, 'pedestal': 2756, 'hardest': 2757, 'supposed': 2758, 'rinse': 2759, 'nude': 2760, 'shifting': 2761, 'bubbling': 2762, 'peeling': 2763, 'scratch': 2764, 'droid': 2765, 'attempting': 2766, 'artiness': 2767, 'became': 2768, 'existent': 2769, 'arepas': 2770, 'earset': 2771, 'outgoing': 2772, 'blown': 2773, 'pyromaniac': 2774, 'waylaid': 2775, 'switched': 2776, 'trunk': 2777, 'carried': 2778, 'hitch': 2779, 'excalibur': 2780, 'common': 2781, 'paolo': 2782, 'sorrentino': 2783, 'loneliness': 2784, 'tony': 2785, 'built': 2786, 'unforgettable': 2787, 'younger': 2788, 'reference': 2789, 'galley': 2790, 'package': 2791, 'diverse': 2792, 'melted': 2793, 'styrofoam': 2794, 'transmission': 2795, 'encourage': 2796, 'squib': 2797, 'according': 2798, 'applifies': 2799, 'loos': 2800, 'extensive': 2801, 'replaced': 2802, 'exploit': 2803, 'financial': 2804, 'gain': 2805, 'hoping': 2806, 'impossible': 2807, 'shiny': 2808, 'hatred': 2809, 'admitted': 2810, 'mussel': 2811, 'reduction': 2812, 'comparably': 2813, 'offering': 2814, 'flash': 2815, 'randomly': 2816, 'locked': 2817, 'mp': 2818, 'pic': 2819, 'telephone': 2820, 'repair': 2821, 'reaction': 2822, 'bitchy': 2823, 'bos': 2824, 'oyster': 2825, 'vessel': 2826, 'taken': 2827, 'mighty': 2828, 'frost': 2829, 'flimsy': 2830, 'storage': 2831, 'adventure': 2832, 'competent': 2833, 'jerry': 2834, 'falwell': 2835, 'television': 2836, 'horrendously': 2837, 'muffin': 2838, 'untoasted': 2839, 'poured': 2840, 'wound': 2841, 'drawing': 2842, 'securely': 2843, 'hook': 2844, 'canal': 2845, 'originality': 2846, 'freshness': 2847, 'sheer': 2848, 'tedium': 2849, 'melodrama': 2850, 'sinking': 2851, 'lord': 2852, 'defeat': 2853, 'pear': 2854, 'almond': 2855, 'batch': 2856, 'yay': 2857, 'privileged': 2858, 'cg': 2859, 'slideshow': 2860, 'emptiness': 2861, 'fulfills': 2862, 'requirement': 2863, 'wired': 2864, 'handsfree': 2865, 'array': 2866, 'road': 2867, 'silly': 2868, 'unmitigated': 2869, 'interior': 2870, 'witticism': 2871, 'witty': 2872, 'godfather': 2873, 'upgrade': 2874, 'accountant': 2875, 'screwed': 2876, 'anywhere': 2877, 'cat': 2878, 'n': 2879, 'attached': 2880, 'critical': 2881, 'outstanding': 2882, 'reach': 2883, 'unpleasant': 2884, 'prettier': 2885, 'text': 2886, 'messaging': 2887, 'tricky': 2888, 'lukewarm': 2889, 'remaining': 2890, 'survivor': 2891, 'ferry': 2892, 'valentine': 2893, 'solidifying': 2894, 'happiness': 2895, 'suffering': 2896, 'dealt': 2897, 'sole': 2898, 'bright': 2899, 'unrecognizable': 2900, 'superbad': 2901, 'interim': 2902, 'superficial': 2903, 'operates': 2904, 'bell': 2905, 'whistle': 2906, 'honor': 2907, 'hut': 2908, 'hummh': 2909, 'outta': 2910, 'row': 2911, 'entirely': 2912, 'unmoving': 2913, 'impression': 2914, 'chain': 2915, 'behing': 2916, 'comfortible': 2917, 'pain': 2918, 'bisque': 2919, 'bussell': 2920, 'sprout': 2921, 'risotto': 2922, 'filet': 2923, 'understood': 2924, 'matter': 2925, 'identified': 2926, 'frustrated': 2927, 'forgery': 2928, 'abound': 2929, 'disgusted': 2930, 'disconnected': 2931, 'indication': 2932, 'meld': 2933, 'volatile': 2934, 'temperament': 2935, 'seamless': 2936, 'union': 2937, 'creativity': 2938, 'temp': 2939, 'prepare': 2940, 'bare': 2941, 'oil': 2942, 'powerhouse': 2943, 'achievement': 2944, 'timely': 2945, 'fascination': 2946, 'celebrity': 2947, 'interpretation': 2948, 'fame': 2949, 'owns': 2950, 'spacek': 2951, 'coal': 2952, 'miner': 2953, 'quaid': 2954, 'replenished': 2955, 'yucky': 2956, 'plantronincs': 2957, 'continues': 2958, 'helen': 2959, 'baxendale': 2960, 'credible': 2961, 'cheerfull': 2962, 'naughty': 2963, 'deadly': 2964, 'blood': 2965, 'ambience': 2966, 'lordy': 2967, 'khao': 2968, 'soi': 2969, 'container': 2970, 'opposed': 2971, 'cramming': 2972, 'takeout': 2973, 'unoriginal': 2974, 'reversible': 2975, 'sudden': 2976, 'investment': 2977, 'nightmare': 2978, 'wonton': 2979, 'exercise': 2980, 'indian': 2981, 'naan': 2982, 'pine': 2983, 'collective': 2984, 'sand': 2985, 'concerning': 2986, 'reflected': 2987, 'borrowed': 2988, 'coach': 2989, 'soap': 2990, 'opera': 2991, 'bluetoooth': 2992, 'originally': 2993, 'discarded': 2994, 'scratched': 2995, 'football': 2996, 'perplexing': 2997, 'shocked': 2998, 'indicate': 2999, 'cash': 3000, 'despicable': 3001, 'foolish': 3002, 'jury': 3003, 'lawyer': 3004, 'trimmed': 3005, 'pleather': 3006, 'angus': 3007, 'scrimm': 3008, 'gently': 3009, 'menacing': 3010, 'violin': 3011, 'anatomist': 3012, 'absolute': 3013, 'sanyo': 3014, 'survived': 3015, 'blacktop': 3016, 'ill': 3017, 'transformed': 3018, 'organizational': 3019, 'capability': 3020, 'shenanigan': 3021, 'surrounding': 3022, 'murdered': 3023, 'spy': 3024, 'kidnapped': 3025, 'foreign': 3026, 'random': 3027, 'taxidermist': 3028, 'captain': 3029, 'howdy': 3030, 'motorolas': 3031, 'hawaiian': 3032, 'breeze': 3033, 'mango': 3034, 'magic': 3035, 'pineapple': 3036, 'smoothy': 3037, 'showcasing': 3038, 'letdown': 3039, 'camelback': 3040, 'flower': 3041, 'cartel': 3042, 'tucson': 3043, 'ultra': 3044, 'toro': 3045, 'tartare': 3046, 'cavier': 3047, 'thinly': 3048, 'wagyu': 3049, 'truffle': 3050, 'highlighted': 3051, 'poler': 3052, 'question': 3053, 'fort': 3054, 'steele': 3055, 'enjoyment': 3056, 'contacting': 3057, 'learned': 3058, 'lesson': 3059, 'online': 3060, 'inflate': 3061, 'smaller': 3062, 'attitude': 3063, 'grow': 3064, 'rapidly': 3065, 'venturing': 3066, 'dad': 3067, 'grew': 3068, 'appetizer': 3069, 'succulent': 3070, 'baseball': 3071, 'nigiri': 3072, 'bed': 3073, 'tooth': 3074, 'wi': 3075, 'morning': 3076, 'armand': 3077, 'assante': 3078, 'brother': 3079, 'law': 3080, 'mall': 3081, 'visited': 3082, 'bitpim': 3083, 'program': 3084, 'adhesive': 3085, 'smallest': 3086, 'deaf': 3087, 'disapoinment': 3088, 'exciting': 3089, 'jerky': 3090, 'movement': 3091, 'forgotten': 3092, 'tmobile': 3093, 'reenactment': 3094, 'emotionally': 3095, 'adrift': 3096, 'stagy': 3097, 'sadly': 3098, 'gordon': 3099, 'ramsey': 3100, 'shall': 3101, 'yeah': 3102, 'version': 3103, 'watchable': 3104, 'host': 3105, 'bitch': 3106, 'forth': 3107, 'helped': 3108, 'phenomenal': 3109, 'bottowm': 3110, 'gimmick': 3111, 'bougth': 3112, 'l': 3113, 'veteran': 3114, 'nostalgia': 3115, 'plantain': 3116, 'attractive': 3117, 'ignore': 3118, 'weaker': 3119, 'displeased': 3120, 'staying': 3121, 'mirage': 3122, 'theme': 3123, 'simmering': 3124, 'boiling': 3125, 'wart': 3126, 'poet': 3127, 'bohemian': 3128, 'wartime': 3129, 'aerial': 3130, 'bombardment': 3131, 'london': 3132, 'outward': 3133, 'tranquillity': 3134, 'welsh': 3135, 'coastal': 3136, 'retreat': 3137, 'borderline': 3138, 'friendship': 3139, 'lust': 3140, 'dedication': 3141, 'jealousy': 3142, 'rivalry': 3143, 'cowardice': 3144, 'egotism': 3145, 'heroism': 3146, 'sacrifice': 3147, 'margarita': 3148, 'negative': 3149, 'admins': 3150, 'downside': 3151, 'plater': 3152, 'quaint': 3153, 'sorry': 3154, 'favor': 3155, 'riveted': 3156, 'punch': 3157, 'europe': 3158, 'asia': 3159, 'peaking': 3160, 'columbo': 3161, 'communicate': 3162, 'warmth': 3163, 'shoe': 3164, 'yelp': 3165, 'he': 3166, 'funniest': 3167, 'caught': 3168, 'curtain': 3169, 'ive': 3170, 'edition': 3171, 'underneath': 3172, 'lid': 3173, 'desired': 3174, 'shined': 3175, 'senior': 3176, 'inviting': 3177, 'apologize': 3178, 'planning': 3179, 'jiggle': 3180, 'skilled': 3181, 'wallet': 3182, 'denny': 3183, 'penny': 3184, 'bigger': 3185, 'content': 3186, 'delicioso': 3187, 'pulling': 3188, 'mercy': 3189, 'killing': 3190, 'phrase': 3191, 'owed': 3192, 'land': 3193, 'surroundings': 3194, 'losing': 3195, 'marble': 3196, 'integral': 3197, 'helping': 3198, 'soggy': 3199, 'fingernail': 3200, 'chalkboard': 3201, 'overnight': 3202, 'distinction': 3203, 'omelet': 3204, 'fundamental': 3205, 'legal': 3206, 'guilt': 3207, 'innocence': 3208, 'cashew': 3209, 'undercooked': 3210, 'accessable': 3211, 'photo': 3212, 'ad': 3213, 'halfway': 3214, 'embarrassed': 3215, 'howell': 3216, 'courteous': 3217, 'detail': 3218, 'dysfunction': 3219, 'alert': 3220, 'decipher': 3221, 'sporting': 3222, 'cheese': 3223, 'except': 3224, 'cole': 3225, 'waaaaaayyyyyyyyyy': 3226, 'saying': 3227, 'barney': 3228, 'duper': 3229, 'riot': 3230, 'hugo': 3231, 'weaving': 3232, 'obsessed': 3233, 'gay': 3234, 'estate': 3235, 'salesman': 3236, 'us': 3237, 'client': 3238, 'tryst': 3239, 'flaming': 3240, 'darren': 3241, 'hollander': 3242, 'overdue': 3243, 'gotta': 3244, 'slimy': 3245, 'drooling': 3246, 'teeth': 3247, 'crime': 3248, 'belmondo': 3249, 'lino': 3250, 'ventura': 3251, 'drivng': 3252, 'slowly': 3253, 'excruciatingly': 3254, 'barking': 3255, 'bakery': 3256, 'established': 3257, 'necklace': 3258, 'containing': 3259, 'meteorite': 3260, 'outperform': 3261, 'china': 3262, 'manual': 3263, 'starving': 3264, 'owning': 3265, 'official': 3266, 'oem': 3267, 'suggestion': 3268, 'peculiarity': 3269, 'antena': 3270, 'disapppointment': 3271, 'lap': 3272, 'florida': 3273, 'goremeister': 3274, 'lucio': 3275, 'assumed': 3276, 'dustpan': 3277, 'indoors': 3278, 'disposable': 3279, 'national': 3280, 'treasure': 3281, 'dialing': 3282, 'witnessed': 3283, 'stunning': 3284, 'exceeding': 3285, 'dreamed': 3286, 'translate': 3287, 'anthony': 3288, 'horse': 3289, 'offered': 3290, 'lense': 3291, 'freezing': 3292, 'finale': 3293, 'brand': 3294, 'comprehensible': 3295, 'ryan': 3296, 'edinburgh': 3297, 'revisiting': 3298, 'vitally': 3299, 'occurs': 3300, 'installed': 3301, 'overnite': 3302, 'razor': 3303, 'proclaimed': 3304, 'wildly': 3305, 'grainy': 3306, 'enhanced': 3307, 'outshining': 3308, 'halibut': 3309, 'informative': 3310, 'absolutley': 3311, 'bagel': 3312, 'grocery': 3313, 'tragedy': 3314, 'struck': 3315, 'thirty': 3316, 'vacant': 3317, 'shameful': 3318, 'counterfeit': 3319, 'schoolers': 3320, 'cry': 3321, 'storyline': 3322, 'creative': 3323, 'loosely': 3324, 'stream': 3325, 'submerged': 3326, 'cake': 3327, 'raving': 3328, 'tailored': 3329, 'palate': 3330, 'six': 3331, 'notch': 3332, 'functional': 3333, 'albondigas': 3334, 'tomato': 3335, 'meatball': 3336, 'contstruct': 3337, 'hinge': 3338, 'hiro': 3339, 'securly': 3340, 'team': 3341, 'stuck': 3342, 'max': 3343, 'mute': 3344, 'pissd': 3345, 'includes': 3346, 'shatner': 3347, 'nimoy': 3348, 'washed': 3349, 'tacky': 3350, 'spock': 3351, 'rescue': 3352, 'kirk': 3353, 'jet': 3354, 'mountain': 3355, 'packaged': 3356, 'intended': 3357, 'president': 3358, 'ant': 3359, 'restored': 3360, 'succeeded': 3361, 'broken': 3362, 'negatively': 3363, 'surprise': 3364, 'venture': 3365, 'tapa': 3366, 'steakhouse': 3367, 'summarize': 3368, 'nay': 3369, 'transcendant': 3370, 'pneumatic': 3371, 'condiment': 3372, 'dispenser': 3373, 'freeway': 3374, 'science': 3375, 'teacher': 3376, 'noca': 3377, 'beauty': 3378, 'copier': 3379, 'standout': 3380, 'screamy': 3381, 'masculine': 3382, 'typical': 3383, 'poignant': 3384, 'drunk': 3385, 'sold': 3386, 'marred': 3387, 'constant': 3388, 'ticker': 3389, 'piano': 3390, 'purchasing': 3391, 'jx': 3392, 'moto': 3393, 'aside': 3394, 'destroy': 3395, 'latifa': 3396, 'campy': 3397, 'dominated': 3398, 'disney': 3399, 'pixar': 3400, 'cgi': 3401, 'comforting': 3402, 'relying': 3403, 'traditional': 3404, 'drawn': 3405, 'enchanting': 3406, 'hamburger': 3407, 'ebay': 3408, 'nutshell': 3409, 'restaraunt': 3410, 'sewer': 3411, 'inch': 3412, 'kitchen': 3413, 'counter': 3414, 'cracked': 3415, 'laughing': 3416, 'colour': 3417, 'flag': 3418, 'highest': 3419, 'anti': 3420, 'glare': 3421, 'protector': 3422, 'date': 3423, 'tired': 3424, 'spoil': 3425, 'passion': 3426, 'taking': 3427, 'flair': 3428, 'waterproof': 3429, 'capture': 3430, 'essence': 3431, 'improve': 3432, 'leak': 3433, 'trumbull': 3434, 'lucy': 3435, 'voodoo': 3436, 'gluten': 3437, 'suggests': 3438, 'dramatic': 3439, 'inappropriate': 3440, 'smiling': 3441, 'keira': 3442, 'knightley': 3443, 'prone': 3444, 'pink': 3445, 'familiar': 3446, 'reliability': 3447, 'converter': 3448, 'sliding': 3449, 'pant': 3450, 'professional': 3451, 'debbie': 3452, 'rochon': 3453, 'contributory': 3454, 'former': 3455, 'chimp': 3456, 'tolerable': 3457, 'consistent': 3458, 'thread': 3459, 'leni': 3460, 'parker': 3461, 'anita': 3462, 'laselva': 3463, 'taelons': 3464, 'idealogical': 3465, 'burrittos': 3466, 'require': 3467, 'significant': 3468, 'puzzle': 3469, 'solving': 3470, 'excelent': 3471, 'grandmother': 3472, 'across': 3473, 'downright': 3474, 'hybrid': 3475, 'palmtop': 3476, 'excels': 3477, 'miserable': 3478, 'pandering': 3479, 'sabotage': 3480, 'cause': 3481, 'reccomendation': 3482, 'relative': 3483, 'happening': 3484, 'unlockable': 3485, 'government': 3486, 'scientist': 3487, 'argued': 3488, 'humanity': 3489, 'wrongly': 3490, 'regularly': 3491, 'waaay': 3492, 'body': 3493, 'fest': 3494, 'spoiled': 3495, 'brat': 3496, 'babysitting': 3497, 'perpared': 3498, 'presentation': 3499, 'giant': 3500, 'slice': 3501, 'dusted': 3502, 'powdered': 3503, 'sugar': 3504, 'penne': 3505, 'vodka': 3506, 'cheapy': 3507, 'usually': 3508, 'loudest': 3509, 'dit': 3510, 'constantine': 3511, 'intensity': 3512, 'motivation': 3513, 'rpg': 3514, 'respecting': 3515, 'rpger': 3516, 'lilt': 3517, 'dual': 3518, 'connecting': 3519, 'imac': 3520, 'external': 3521, 'straw': 3522, 'cruel': 3523, 'ireland': 3524, 'infatuated': 3525, 'prepared': 3526, 'tolerate': 3527, 'political': 3528, 'incorrectness': 3529, 'artistic': 3530, 'suspension': 3531, 'disbelief': 3532, 'slavic': 3533, 'google': 3534, 'smashburger': 3535, 'throwback': 3536, 'abroad': 3537, 'interacting': 3538, 'nationality': 3539, 'slightly': 3540, 'horrendous': 3541, 'possesed': 3542, 'connoisseur': 3543, 'difference': 3544, 'warn': 3545, 'dumbest': 3546, 'dwight': 3547, 'schultz': 3548, 'disappoint': 3549, 'practically': 3550, 'boost': 3551, 'pap': 3552, 'screened': 3553, 'afternoon': 3554, 'punish': 3555, 'unemployed': 3556, 'improper': 3557, 'crumby': 3558, 'considered': 3559, 'frankly': 3560, 'cotton': 3561, 'unfaithful': 3562, 'gere': 3563, 'hello': 3564, 'stir': 3565, 'noodle': 3566, 'underwater': 3567, 'repeated': 3568, 'thousand': 3569, 'mellow': 3570, 'insomniac': 3571, 'accessing': 3572, 'downloading': 3573, 'performing': 3574, 'def': 3575, 'nargile': 3576, 'tying': 3577, 'greasy': 3578, 'unhealthy': 3579, 'attack': 3580, 'grill': 3581, 'lined': 3582, 'season': 3583, 'canada': 3584, 'aye': 3585, 'gerardo': 3586, 'resounding': 3587, 'arrival': 3588, 'fraction': 3589, 'aired': 3590, 'dribble': 3591, 'fix': 3592, 'comedic': 3593, 'timing': 3594, 'promised': 3595, 'bend': 3596, 'spring': 3597, 'metal': 3598, 'stress': 3599, 'interface': 3600, 'decade': 3601, 'compete': 3602, 'hi': 3603, 'youtube': 3604, 'rave': 3605, 'prompted': 3606, 'caesar': 3607, 'vivian': 3608, 'schilling': 3609, 'geeky': 3610, 'ooze': 3611, 'embedded': 3612, 'stylish': 3613, 'groove': 3614, 'antithesis': 3615, 'traffic': 3616, 'overacting': 3617, 'underacting': 3618, 'grate': 3619, 'nerve': 3620, 'punishment': 3621, 'park': 3622, 'flipphones': 3623, 'eel': 3624, 'kabuki': 3625, 'notable': 3626, 'bailey': 3627, 'colored': 3628, 'eiko': 3629, 'ishioka': 3630, 'coppola': 3631, 'dracula': 3632, 'deserved': 3633, 'stranger': 3634, 'detachable': 3635, 'rumble': 3636, 'desperately': 3637, 'depending': 3638, 'sincere': 3639, 'bob': 3640, 'rise': 3641, 'barcelona': 3642, 'famed': 3643, 'gaudi': 3644, 'tower': 3645, 'sturdiness': 3646, 'nicola': 3647, 'roeg': 3648, 'wih': 3649, 'inconspicuous': 3650, 'allison': 3651, 'coconut': 3652, 'foreigner': 3653, 'connisseur': 3654, 'topic': 3655, 'frequentyly': 3656, 'continuity': 3657, 'error': 3658, 'commented': 3659, 'garage': 3660, 'facial': 3661, 'configuration': 3662, 'bipolarity': 3663, 'thug': 3664, 'luv': 3665, 'diaper': 3666, 'bamboo': 3667, 'shoot': 3668, 'joey': 3669, 'voted': 3670, 'valley': 3671, 'magazine': 3672, 'serivce': 3673, 'fleshed': 3674, 'grime': 3675, 'blake': 3676, 'scripted': 3677, 'deadpan': 3678, 'tongue': 3679, 'cheek': 3680, 'realistic': 3681, 'wirefly': 3682, 'inform': 3683, 'practice': 3684, 'electronics': 3685, 'available': 3686, 'fm': 3687, 'transmitter': 3688, 'shirley': 3689, 'jones': 3690, 'rendition': 3691, 'tonight': 3692, 'mirrormask': 3693, 'unsatisfactory': 3694, 'plenty': 3695, 'kevin': 3696, 'spacey': 3697, 'verbal': 3698, 'tsunami': 3699, 'buddy': 3700, 'ackerman': 3701, 'heartwarming': 3702, 'chasing': 3703, 'sangria': 3704, 'bodes': 3705, 'correction': 3706, 'heimer': 3707, 'relax': 3708, 'shattered': 3709, 'recover': 3710, 'decided': 3711, 'patient': 3712, 'mandalay': 3713, 'crocdodile': 3714, 'believed': 3715, 'crocs': 3716, 'swamp': 3717, 'drained': 3718, 'shirt': 3719, 'research': 3720, 'division': 3721, 'amusing': 3722, 'answer': 3723, 'veal': 3724, 'airline': 3725, 'maintains': 3726, 'flawless': 3727, 'instant': 3728, 'catchy': 3729, 'w': 3730, 'ideal': 3731, 'whose': 3732, 'sensitive': 3733, 'crawfish': 3734, 'dough': 3735, 'cr': 3736, 'pe': 3737, 'delicate': 3738, 'faster': 3739, 'lettuce': 3740, 'unrecommended': 3741, 'cinematic': 3742, 'captured': 3743, 'celluloid': 3744, 'hackneyed': 3745, 'respect': 3746, 'pleasure': 3747, 'whoever': 3748, 'ala': 3749, 'cart': 3750, 'achille': 3751, 'philippa': 3752, 'sing': 3753, 'giovanni': 3754, 'describes': 3755, 'layer': 3756, 'exchange': 3757, 'considers': 3758, 'biggest': 3759, 'ussr': 3760, 'buldogis': 3761, 'gourmet': 3762, 'steiner': 3763, 'anne': 3764, 'heche': 3765, 'disliked': 3766, 'stylized': 3767, 'convention': 3768, 'sim': 3769, 'reservation': 3770, 'ticking': 3771, 'noise': 3772, 'filmiing': 3773, 'expansive': 3774, 'armband': 3775, 'petty': 3776, 'bag': 3777, 'stephen': 3778, 'mchattie': 3779, 'lance': 3780, 'hendrikson': 3781, 'raging': 3782, 'cheekbone': 3783, 'precisely': 3784, 'giving': 3785, 'taped': 3786, 'mode': 3787, 'seamlessly': 3788, 'woven': 3789, 'splendid': 3790, 'rubbish': 3791, 'researched': 3792, 'award': 3793, 'accolade': 3794, 'deserving': 3795, 'relocated': 3796, 'experiencing': 3797, 'dislike': 3798, 'surface': 3799, 'lately': 3800, 'deliciously': 3801, 'seasoned': 3802, 'soooo': 3803, 'starter': 3804, 'wireless': 3805, 'hey': 3806, 'pleasantly': 3807, 'suprised': 3808, 'accept': 3809, 'cassette': 3810, 'painfully': 3811, 'dreary': 3812, 'waster': 3813, 'timer': 3814, 'drift': 3815, 'earth': 3816, 'brisket': 3817, 'proven': 3818, 'disagree': 3819, 'fellow': 3820, 'yelpers': 3821, 'definitly': 3822, 'wise': 3823, 'bus': 3824, 'maker': 3825, 'worthy': 3826, 'trap': 3827, 'syrupy': 3828, 'whelm': 3829, 'simplifying': 3830, 'brevity': 3831, 'fulfilling': 3832, 'explanation': 3833, 'gc': 3834, 'flop': 3835, 'exceeds': 3836, 'sight': 3837, 'gabriel': 3838, 'discomfort': 3839, 'intangible': 3840, 'leap': 3841, 'viewer': 3842, 'grasp': 3843, 'iriver': 3844, 'spinn': 3845, 'marriage': 3846, 'suffers': 3847, 'washing': 3848, 'twirling': 3849, 'heavy': 3850, 'cancan': 3851, 'boast': 3852, 'cutest': 3853, 'leading': 3854, 'grace': 3855, 'casino': 3856, 'forward': 3857, 'pillow': 3858, 'ayce': 3859, 'restart': 3860, 'upload': 3861, 'alarm': 3862, 'clock': 3863, 'docking': 3864, 'somethat': 3865, 'ache': 3866, 'goat': 3867, 'skimp': 3868, 'personable': 3869, 'vinaigrette': 3870, 'retarded': 3871}\n"
     ]
    }
   ],
   "source": [
    "#Splitting Data in Training and Testing\n",
    "\n",
    "from sklearn.model_selection import train_test_split\n",
    "\n",
    "x = df['Clean_Review']\n",
    "y = df['Sentiment']\n",
    "\n",
    "\n",
    "x_train, x_test, y_train, y_test = train_test_split(x, y, test_size = 0.25, random_state = 19, stratify=y)\n",
    "\n",
    "\n",
    "#Tokenize Training Sentences\n",
    "from tensorflow.keras.preprocessing.text import Tokenizer\n",
    "\n",
    "tokenizer = Tokenizer(oov_token=\"<OOV>\")\n",
    "\n",
    "tokenizer.fit_on_texts(x_train)\n",
    "\n",
    "word_index = tokenizer.word_index\n",
    "\n",
    "#Sequencing Training/Testing Sentences\n",
    "training_sequences = tokenizer.texts_to_sequences(x_train)\n",
    "testing_sequences = tokenizer.texts_to_sequences(x_test)\n",
    "\n",
    "\n",
    "#Padding Training/Testing Sentences\n",
    "from tensorflow.keras.preprocessing.sequence import pad_sequences\n",
    "\n",
    "training_padded = pad_sequences(training_sequences, maxlen=max_length)\n",
    "testing_padded = pad_sequences(testing_sequences, maxlen=max_length)\n",
    "\n",
    "#Converting to Array\n",
    "\n",
    "training_padded = np.array(training_padded)\n",
    "training_labels = np.array(y_train, np.float32)\n",
    "\n",
    "testing_padded = np.array(testing_padded)\n",
    "testing_labels = np.array(y_test, np.float32)\n",
    "\n",
    "#One-Hot Encoding Labels\n",
    "\n",
    "import tensorflow as tf\n",
    "\n",
    "training_labels = tf.one_hot(training_labels, 2)\n",
    "testing_labels = tf.one_hot(testing_labels, 2)\n",
    "\n",
    "print(word_index)"
   ]
  },
  {
   "cell_type": "code",
   "execution_count": 18,
   "id": "41c8ac45-99bd-444c-84fb-5d2c5c4826b4",
   "metadata": {},
   "outputs": [
    {
     "name": "stdout",
     "output_type": "stream",
     "text": [
      "[   0    0    0    0    0    0    0    0    0    0    0    0    0    0\n",
      "    0    0    0    0    0    0    0    0    0    0    0    0    0    0\n",
      "    0    0    0    0    0    0    0    0    0    0    0    0    0    4\n",
      " 1622  731]\n"
     ]
    }
   ],
   "source": [
    "#Example of padded sequence\n",
    "print(training_padded[0])"
   ]
  },
  {
   "cell_type": "code",
   "execution_count": 19,
   "id": "5eeace3a-8270-4e4a-abc7-233ffc6f3fbe",
   "metadata": {},
   "outputs": [
    {
     "name": "stdout",
     "output_type": "stream",
     "text": [
      "The vocabulary size of the training data is:  3871\n",
      "The embedding length of the training data is:  8\n",
      "The maximum sequence length of the training data is:  44\n"
     ]
    }
   ],
   "source": [
    "#Training Data Vocab Size, Embedding Dimension, and Input Length\n",
    "\n",
    "vocab_size = len(word_index)\n",
    "\n",
    "embedding_dim = int(round(np.sqrt(np.sqrt(vocab_size)), 0))\n",
    "\n",
    "train_review_length = []\n",
    "\n",
    "for review in x_train:\n",
    "    train_review_length.append(len(review.split(' ')))\n",
    "\n",
    "max_length = int(round(np.max(train_review_length), 0))\n",
    "\n",
    "print(\"The vocabulary size of the training data is: \", len(word_index))\n",
    "\n",
    "print(\"The embedding length of the training data is: \", embedding_dim)\n",
    "\n",
    "print(\"The maximum sequence length of the training data is: \", max_length)\n"
   ]
  },
  {
   "cell_type": "code",
   "execution_count": 20,
   "id": "cb56ce1c-9c41-409b-a604-9abcb6ee2a14",
   "metadata": {},
   "outputs": [
    {
     "name": "stdout",
     "output_type": "stream",
     "text": [
      "The shape of training_padded is:  (2250, 44)\n",
      "The shape of training_labels is:  (2250, 2)\n"
     ]
    }
   ],
   "source": [
    "print(\"The shape of training_padded is: \", training_padded.shape)\n",
    "print(\"The shape of training_labels is: \", training_labels.shape)"
   ]
  },
  {
   "cell_type": "code",
   "execution_count": 21,
   "id": "6e225029-c3a5-4cdf-a8cd-50854594f90e",
   "metadata": {},
   "outputs": [
    {
     "name": "stdout",
     "output_type": "stream",
     "text": [
      "tf.Tensor(\n",
      "[[1. 0.]\n",
      " [0. 1.]\n",
      " [1. 0.]\n",
      " ...\n",
      " [1. 0.]\n",
      " [0. 1.]\n",
      " [0. 1.]], shape=(2250, 2), dtype=float32)\n"
     ]
    }
   ],
   "source": [
    "print(training_labels)"
   ]
  },
  {
   "cell_type": "code",
   "execution_count": 22,
   "id": "6213117f-5508-4d38-8f04-47520d080789",
   "metadata": {},
   "outputs": [
    {
     "name": "stdout",
     "output_type": "stream",
     "text": [
      "The vocabularly size is:  3872\n",
      "The word embedding length is:  8\n",
      "The maximum sequence length is:  44\n"
     ]
    }
   ],
   "source": [
    "#Determining Embedding Length\n",
    "\n",
    "from tensorflow.keras.layers import Embedding\n",
    "\n",
    "num_words = vocab_size + 1 \n",
    "\n",
    "embedding_dim = embedding_dim\n",
    "\n",
    "input_length = max_length\n",
    "\n",
    "print(\"The vocabularly size is: \", num_words)\n",
    "print(\"The word embedding length is: \", embedding_dim)\n",
    "print(\"The maximum sequence length is: \", input_length)"
   ]
  },
  {
   "cell_type": "markdown",
   "id": "840c738a-f9ba-4058-adea-decde1fac51f",
   "metadata": {},
   "source": [
    "### Building the Neural Network"
   ]
  },
  {
   "cell_type": "code",
   "execution_count": 23,
   "id": "9ceaef19-a888-4d68-9453-c025f99bf297",
   "metadata": {},
   "outputs": [
    {
     "name": "stdout",
     "output_type": "stream",
     "text": [
      "Model: \"sequential\"\n",
      "_________________________________________________________________\n",
      " Layer (type)                Output Shape              Param #   \n",
      "=================================================================\n",
      " embedding (Embedding)       (None, 44, 8)             30976     \n",
      "                                                                 \n",
      " global_average_pooling1d (G  (None, 8)                0         \n",
      " lobalAveragePooling1D)                                          \n",
      "                                                                 \n",
      " dense (Dense)               (None, 100)               900       \n",
      "                                                                 \n",
      " dense_1 (Dense)             (None, 50)                5050      \n",
      "                                                                 \n",
      " dense_2 (Dense)             (None, 2)                 102       \n",
      "                                                                 \n",
      "=================================================================\n",
      "Total params: 37,028\n",
      "Trainable params: 37,028\n",
      "Non-trainable params: 0\n",
      "_________________________________________________________________\n"
     ]
    }
   ],
   "source": [
    "#Building NN\n",
    "\n",
    "#Instantiating Early Stopping\n",
    "from tensorflow.keras.callbacks import EarlyStopping\n",
    "\n",
    "early_stopping_monitor = EarlyStopping(patience=2)\n",
    "\n",
    "model = tf.keras.Sequential([\n",
    "    tf.keras.layers.Embedding(num_words, embedding_dim, input_length = input_length),\n",
    "    tf.keras.layers.GlobalAveragePooling1D(),\n",
    "    tf.keras.layers.Dense(100, activation='relu'),\n",
    "    tf.keras.layers.Dense(50, activation='relu'),\n",
    "    tf.keras.layers.Dense(2, activation='sigmoid')\n",
    "])\n",
    "\n",
    "model.compile(loss='binary_crossentropy', optimizer='adam', metrics=['accuracy'])\n",
    "\n",
    "model.summary()"
   ]
  },
  {
   "cell_type": "code",
   "execution_count": 24,
   "id": "e544bab8-6082-434f-8370-d84e96c9247b",
   "metadata": {},
   "outputs": [
    {
     "name": "stdout",
     "output_type": "stream",
     "text": [
      "Epoch 1/50\n",
      "50/50 [==============================] - 1s 9ms/step - loss: 0.6934 - accuracy: 0.4959 - val_loss: 0.6931 - val_accuracy: 0.4919\n",
      "Epoch 2/50\n",
      "50/50 [==============================] - 0s 4ms/step - loss: 0.6928 - accuracy: 0.5117 - val_loss: 0.6929 - val_accuracy: 0.4919\n",
      "Epoch 3/50\n",
      "50/50 [==============================] - 0s 4ms/step - loss: 0.6899 - accuracy: 0.5486 - val_loss: 0.6876 - val_accuracy: 0.5526\n",
      "Epoch 4/50\n",
      "50/50 [==============================] - 0s 4ms/step - loss: 0.6556 - accuracy: 0.7676 - val_loss: 0.6406 - val_accuracy: 0.6356\n",
      "Epoch 5/50\n",
      "50/50 [==============================] - 0s 3ms/step - loss: 0.4858 - accuracy: 0.8660 - val_loss: 0.5070 - val_accuracy: 0.7881\n",
      "Epoch 6/50\n",
      "50/50 [==============================] - 0s 3ms/step - loss: 0.2843 - accuracy: 0.9079 - val_loss: 0.4563 - val_accuracy: 0.7926\n",
      "Epoch 7/50\n",
      "50/50 [==============================] - 0s 3ms/step - loss: 0.1941 - accuracy: 0.9302 - val_loss: 0.4521 - val_accuracy: 0.7985\n",
      "Epoch 8/50\n",
      "50/50 [==============================] - 0s 4ms/step - loss: 0.1400 - accuracy: 0.9537 - val_loss: 0.4677 - val_accuracy: 0.7985\n",
      "Epoch 9/50\n",
      "50/50 [==============================] - 0s 4ms/step - loss: 0.1096 - accuracy: 0.9613 - val_loss: 0.5096 - val_accuracy: 0.7867\n"
     ]
    }
   ],
   "source": [
    "#Fitting the model\n",
    "\n",
    "history = model.fit(training_padded, training_labels, epochs = 50, validation_split = 0.3, callbacks=[early_stopping_monitor])"
   ]
  },
  {
   "cell_type": "code",
   "execution_count": 25,
   "id": "c6b64034-f86a-4bf0-8ae0-8463c62a42bf",
   "metadata": {},
   "outputs": [
    {
     "name": "stdout",
     "output_type": "stream",
     "text": [
      "Test loss: 0.47337639331817627 / Test accuracy: 0.8066666722297668\n"
     ]
    }
   ],
   "source": [
    "#Evaluating the Model\n",
    "\n",
    "score = model.evaluate(testing_padded, testing_labels, verbose=0)\n",
    "\n",
    "print(f'Test loss: {score[0]} / Test accuracy: {score[1]}')"
   ]
  },
  {
   "cell_type": "code",
   "execution_count": 26,
   "id": "134f4b77-5997-4455-a502-05c41e15197c",
   "metadata": {},
   "outputs": [
    {
     "name": "stdout",
     "output_type": "stream",
     "text": [
      "Model: \"sequential_1\"\n",
      "_________________________________________________________________\n",
      " Layer (type)                Output Shape              Param #   \n",
      "=================================================================\n",
      " embedding_1 (Embedding)     (None, 44, 8)             30976     \n",
      "                                                                 \n",
      " global_average_pooling1d_1   (None, 8)                0         \n",
      " (GlobalAveragePooling1D)                                        \n",
      "                                                                 \n",
      " dense_3 (Dense)             (None, 24)                216       \n",
      "                                                                 \n",
      " dense_4 (Dense)             (None, 2)                 50        \n",
      "                                                                 \n",
      "=================================================================\n",
      "Total params: 31,242\n",
      "Trainable params: 31,242\n",
      "Non-trainable params: 0\n",
      "_________________________________________________________________\n"
     ]
    }
   ],
   "source": [
    "#Model #2 Reduce Complexity\n",
    "\n",
    "model_2 = tf.keras.Sequential([\n",
    "    tf.keras.layers.Embedding(num_words, embedding_dim, input_length = input_length),\n",
    "    tf.keras.layers.GlobalAveragePooling1D(),\n",
    "    tf.keras.layers.Dense(24, activation='relu'),\n",
    "    tf.keras.layers.Dense(2, activation='sigmoid')\n",
    "])\n",
    "\n",
    "model_2.compile(loss='binary_crossentropy', optimizer='adam', metrics=['accuracy'])\n",
    "\n",
    "model_2.summary()"
   ]
  },
  {
   "cell_type": "code",
   "execution_count": 27,
   "id": "c213a143-c362-4dad-b7c0-1b0a37335676",
   "metadata": {},
   "outputs": [
    {
     "name": "stdout",
     "output_type": "stream",
     "text": [
      "Epoch 1/50\n",
      "50/50 [==============================] - 1s 8ms/step - loss: 0.6933 - accuracy: 0.4933 - val_loss: 0.6929 - val_accuracy: 0.4933\n",
      "Epoch 2/50\n",
      "50/50 [==============================] - 0s 4ms/step - loss: 0.6924 - accuracy: 0.5613 - val_loss: 0.6922 - val_accuracy: 0.5067\n",
      "Epoch 3/50\n",
      "50/50 [==============================] - 0s 3ms/step - loss: 0.6903 - accuracy: 0.6660 - val_loss: 0.6906 - val_accuracy: 0.6563\n",
      "Epoch 4/50\n",
      "50/50 [==============================] - 0s 4ms/step - loss: 0.6855 - accuracy: 0.7790 - val_loss: 0.6865 - val_accuracy: 0.7630\n",
      "Epoch 5/50\n",
      "50/50 [==============================] - 0s 4ms/step - loss: 0.6756 - accuracy: 0.8343 - val_loss: 0.6793 - val_accuracy: 0.6933\n",
      "Epoch 6/50\n",
      "50/50 [==============================] - 0s 4ms/step - loss: 0.6565 - accuracy: 0.8654 - val_loss: 0.6660 - val_accuracy: 0.7274\n",
      "Epoch 7/50\n",
      "50/50 [==============================] - 0s 4ms/step - loss: 0.6254 - accuracy: 0.8902 - val_loss: 0.6438 - val_accuracy: 0.7807\n",
      "Epoch 8/50\n",
      "50/50 [==============================] - 0s 4ms/step - loss: 0.5796 - accuracy: 0.8863 - val_loss: 0.6182 - val_accuracy: 0.7363\n",
      "Epoch 9/50\n",
      "50/50 [==============================] - 0s 4ms/step - loss: 0.5250 - accuracy: 0.9086 - val_loss: 0.5876 - val_accuracy: 0.7600\n",
      "Epoch 10/50\n",
      "50/50 [==============================] - 0s 4ms/step - loss: 0.4660 - accuracy: 0.9111 - val_loss: 0.5541 - val_accuracy: 0.7807\n",
      "Epoch 11/50\n",
      "50/50 [==============================] - 0s 4ms/step - loss: 0.4094 - accuracy: 0.9137 - val_loss: 0.5278 - val_accuracy: 0.7896\n",
      "Epoch 12/50\n",
      "50/50 [==============================] - 0s 4ms/step - loss: 0.3600 - accuracy: 0.9289 - val_loss: 0.5067 - val_accuracy: 0.7793\n",
      "Epoch 13/50\n",
      "50/50 [==============================] - 0s 4ms/step - loss: 0.3191 - accuracy: 0.9333 - val_loss: 0.4873 - val_accuracy: 0.7956\n",
      "Epoch 14/50\n",
      "50/50 [==============================] - 0s 4ms/step - loss: 0.2805 - accuracy: 0.9327 - val_loss: 0.4752 - val_accuracy: 0.7837\n",
      "Epoch 15/50\n",
      "50/50 [==============================] - 0s 4ms/step - loss: 0.2512 - accuracy: 0.9448 - val_loss: 0.4653 - val_accuracy: 0.7852\n",
      "Epoch 16/50\n",
      "50/50 [==============================] - 0s 3ms/step - loss: 0.2254 - accuracy: 0.9486 - val_loss: 0.4564 - val_accuracy: 0.8030\n",
      "Epoch 17/50\n",
      "50/50 [==============================] - 0s 4ms/step - loss: 0.2062 - accuracy: 0.9454 - val_loss: 0.4554 - val_accuracy: 0.7911\n",
      "Epoch 18/50\n",
      "50/50 [==============================] - 0s 4ms/step - loss: 0.1850 - accuracy: 0.9549 - val_loss: 0.4571 - val_accuracy: 0.7896\n",
      "Epoch 19/50\n",
      "50/50 [==============================] - 0s 3ms/step - loss: 0.1733 - accuracy: 0.9594 - val_loss: 0.4470 - val_accuracy: 0.8119\n",
      "Epoch 20/50\n",
      "50/50 [==============================] - 0s 4ms/step - loss: 0.1561 - accuracy: 0.9587 - val_loss: 0.4514 - val_accuracy: 0.7896\n",
      "Epoch 21/50\n",
      "50/50 [==============================] - 0s 4ms/step - loss: 0.1441 - accuracy: 0.9600 - val_loss: 0.4480 - val_accuracy: 0.8104\n"
     ]
    }
   ],
   "source": [
    "history_2 = model_2.fit(training_padded, training_labels, epochs = 50, validation_split = 0.3, callbacks=[early_stopping_monitor])"
   ]
  },
  {
   "cell_type": "code",
   "execution_count": 28,
   "id": "41b3f165-06a7-436b-a228-bef95d46e16c",
   "metadata": {},
   "outputs": [
    {
     "name": "stdout",
     "output_type": "stream",
     "text": [
      "Test loss: 0.41946980357170105 / Test accuracy: 0.8053333163261414\n"
     ]
    }
   ],
   "source": [
    "score = model_2.evaluate(testing_padded, testing_labels, verbose=0)\n",
    "\n",
    "print(f'Test loss: {score[0]} / Test accuracy: {score[1]}')"
   ]
  },
  {
   "cell_type": "code",
   "execution_count": 29,
   "id": "c360b837-c878-4aa1-9331-757505e02a0f",
   "metadata": {},
   "outputs": [
    {
     "name": "stdout",
     "output_type": "stream",
     "text": [
      "Model: \"sequential_2\"\n",
      "_________________________________________________________________\n",
      " Layer (type)                Output Shape              Param #   \n",
      "=================================================================\n",
      " embedding_2 (Embedding)     (None, 44, 8)             30976     \n",
      "                                                                 \n",
      " global_average_pooling1d_2   (None, 8)                0         \n",
      " (GlobalAveragePooling1D)                                        \n",
      "                                                                 \n",
      " dense_5 (Dense)             (None, 24)                216       \n",
      "                                                                 \n",
      " dropout (Dropout)           (None, 24)                0         \n",
      "                                                                 \n",
      " dense_6 (Dense)             (None, 2)                 50        \n",
      "                                                                 \n",
      "=================================================================\n",
      "Total params: 31,242\n",
      "Trainable params: 31,242\n",
      "Non-trainable params: 0\n",
      "_________________________________________________________________\n"
     ]
    }
   ],
   "source": [
    "#Model 3 Add Dropout Layer\n",
    "\n",
    "\n",
    "model_3 = tf.keras.Sequential([\n",
    "    tf.keras.layers.Embedding(num_words, embedding_dim, input_length = input_length),\n",
    "    tf.keras.layers.GlobalAveragePooling1D(),\n",
    "    tf.keras.layers.Dense(24, activation='relu'),\n",
    "    tf.keras.layers.Dropout(0.85),\n",
    "    tf.keras.layers.Dense(2, activation='sigmoid')\n",
    "])\n",
    "\n",
    "model_3.compile(loss='binary_crossentropy', optimizer='adam', metrics=['accuracy'])\n",
    "\n",
    "model_3.summary()"
   ]
  },
  {
   "cell_type": "code",
   "execution_count": 30,
   "id": "0a601520-f732-439d-89fe-558624c89794",
   "metadata": {},
   "outputs": [
    {
     "name": "stdout",
     "output_type": "stream",
     "text": [
      "Epoch 1/50\n",
      "50/50 [==============================] - 1s 9ms/step - loss: 0.6930 - accuracy: 0.5130 - val_loss: 0.6930 - val_accuracy: 0.5126\n",
      "Epoch 2/50\n",
      "50/50 [==============================] - 0s 4ms/step - loss: 0.6931 - accuracy: 0.5219 - val_loss: 0.6929 - val_accuracy: 0.4963\n",
      "Epoch 3/50\n",
      "50/50 [==============================] - 0s 4ms/step - loss: 0.6926 - accuracy: 0.5295 - val_loss: 0.6927 - val_accuracy: 0.4933\n",
      "Epoch 4/50\n",
      "50/50 [==============================] - 0s 3ms/step - loss: 0.6916 - accuracy: 0.5416 - val_loss: 0.6922 - val_accuracy: 0.6163\n",
      "Epoch 5/50\n",
      "50/50 [==============================] - 0s 3ms/step - loss: 0.6912 - accuracy: 0.5562 - val_loss: 0.6913 - val_accuracy: 0.7037\n",
      "Epoch 6/50\n",
      "50/50 [==============================] - 0s 3ms/step - loss: 0.6892 - accuracy: 0.5714 - val_loss: 0.6902 - val_accuracy: 0.6696\n",
      "Epoch 7/50\n",
      "50/50 [==============================] - 0s 3ms/step - loss: 0.6876 - accuracy: 0.5873 - val_loss: 0.6884 - val_accuracy: 0.7185\n",
      "Epoch 8/50\n",
      "50/50 [==============================] - 0s 3ms/step - loss: 0.6838 - accuracy: 0.6070 - val_loss: 0.6856 - val_accuracy: 0.7052\n",
      "Epoch 9/50\n",
      "50/50 [==============================] - 0s 4ms/step - loss: 0.6774 - accuracy: 0.6159 - val_loss: 0.6817 - val_accuracy: 0.7704\n",
      "Epoch 10/50\n",
      "50/50 [==============================] - 0s 4ms/step - loss: 0.6702 - accuracy: 0.6216 - val_loss: 0.6763 - val_accuracy: 0.7763\n",
      "Epoch 11/50\n",
      "50/50 [==============================] - 0s 4ms/step - loss: 0.6590 - accuracy: 0.6546 - val_loss: 0.6687 - val_accuracy: 0.7881\n",
      "Epoch 12/50\n",
      "50/50 [==============================] - 0s 4ms/step - loss: 0.6448 - accuracy: 0.6883 - val_loss: 0.6594 - val_accuracy: 0.7407\n",
      "Epoch 13/50\n",
      "50/50 [==============================] - 0s 4ms/step - loss: 0.6264 - accuracy: 0.6844 - val_loss: 0.6475 - val_accuracy: 0.7807\n",
      "Epoch 14/50\n",
      "50/50 [==============================] - 0s 4ms/step - loss: 0.6077 - accuracy: 0.7111 - val_loss: 0.6344 - val_accuracy: 0.7837\n",
      "Epoch 15/50\n",
      "50/50 [==============================] - 0s 4ms/step - loss: 0.5896 - accuracy: 0.7048 - val_loss: 0.6207 - val_accuracy: 0.7793\n",
      "Epoch 16/50\n",
      "50/50 [==============================] - 0s 4ms/step - loss: 0.5704 - accuracy: 0.7257 - val_loss: 0.6042 - val_accuracy: 0.7852\n",
      "Epoch 17/50\n",
      "50/50 [==============================] - 0s 4ms/step - loss: 0.5464 - accuracy: 0.7403 - val_loss: 0.5882 - val_accuracy: 0.7793\n",
      "Epoch 18/50\n",
      "50/50 [==============================] - 0s 4ms/step - loss: 0.5274 - accuracy: 0.7511 - val_loss: 0.5736 - val_accuracy: 0.7911\n",
      "Epoch 19/50\n",
      "50/50 [==============================] - 0s 3ms/step - loss: 0.5064 - accuracy: 0.7797 - val_loss: 0.5583 - val_accuracy: 0.7881\n",
      "Epoch 20/50\n",
      "50/50 [==============================] - 0s 4ms/step - loss: 0.4844 - accuracy: 0.7816 - val_loss: 0.5430 - val_accuracy: 0.7881\n",
      "Epoch 21/50\n",
      "50/50 [==============================] - 0s 3ms/step - loss: 0.4628 - accuracy: 0.7962 - val_loss: 0.5293 - val_accuracy: 0.8000\n",
      "Epoch 22/50\n",
      "50/50 [==============================] - 0s 4ms/step - loss: 0.4585 - accuracy: 0.7905 - val_loss: 0.5193 - val_accuracy: 0.8000\n",
      "Epoch 23/50\n",
      "50/50 [==============================] - 0s 4ms/step - loss: 0.4450 - accuracy: 0.8038 - val_loss: 0.5103 - val_accuracy: 0.7881\n",
      "Epoch 24/50\n",
      "50/50 [==============================] - 0s 4ms/step - loss: 0.4137 - accuracy: 0.8121 - val_loss: 0.4997 - val_accuracy: 0.7896\n",
      "Epoch 25/50\n",
      "50/50 [==============================] - 0s 4ms/step - loss: 0.4074 - accuracy: 0.8159 - val_loss: 0.4929 - val_accuracy: 0.7956\n",
      "Epoch 26/50\n",
      "50/50 [==============================] - 0s 4ms/step - loss: 0.3984 - accuracy: 0.8254 - val_loss: 0.4868 - val_accuracy: 0.7926\n",
      "Epoch 27/50\n",
      "50/50 [==============================] - 0s 3ms/step - loss: 0.3792 - accuracy: 0.8343 - val_loss: 0.4788 - val_accuracy: 0.7911\n",
      "Epoch 28/50\n",
      "50/50 [==============================] - 0s 4ms/step - loss: 0.3792 - accuracy: 0.8368 - val_loss: 0.4732 - val_accuracy: 0.8000\n",
      "Epoch 29/50\n",
      "50/50 [==============================] - 0s 4ms/step - loss: 0.3683 - accuracy: 0.8273 - val_loss: 0.4670 - val_accuracy: 0.8044\n",
      "Epoch 30/50\n",
      "50/50 [==============================] - 0s 4ms/step - loss: 0.3629 - accuracy: 0.8337 - val_loss: 0.4608 - val_accuracy: 0.8089\n",
      "Epoch 31/50\n",
      "50/50 [==============================] - 0s 4ms/step - loss: 0.3480 - accuracy: 0.8425 - val_loss: 0.4670 - val_accuracy: 0.7778\n",
      "Epoch 32/50\n",
      "50/50 [==============================] - 0s 4ms/step - loss: 0.3495 - accuracy: 0.8394 - val_loss: 0.4562 - val_accuracy: 0.8074\n",
      "Epoch 33/50\n",
      "50/50 [==============================] - 0s 4ms/step - loss: 0.3432 - accuracy: 0.8432 - val_loss: 0.4542 - val_accuracy: 0.8059\n",
      "Epoch 34/50\n",
      "50/50 [==============================] - 0s 4ms/step - loss: 0.3339 - accuracy: 0.8381 - val_loss: 0.4592 - val_accuracy: 0.7822\n",
      "Epoch 35/50\n",
      "50/50 [==============================] - 0s 4ms/step - loss: 0.3387 - accuracy: 0.8419 - val_loss: 0.4607 - val_accuracy: 0.7778\n"
     ]
    }
   ],
   "source": [
    "history_3 = model_3.fit(training_padded, training_labels, epochs = 50, validation_split = 0.3, callbacks=[early_stopping_monitor])"
   ]
  },
  {
   "cell_type": "markdown",
   "id": "f37e7d6e-d089-4e05-84cd-5352d1e2fb47",
   "metadata": {},
   "source": [
    "### Model Evaluation"
   ]
  },
  {
   "cell_type": "code",
   "execution_count": 31,
   "id": "cd042a28-eb0e-4411-bc2a-51f0e836b38c",
   "metadata": {},
   "outputs": [
    {
     "name": "stdout",
     "output_type": "stream",
     "text": [
      "dict_keys(['loss', 'accuracy', 'val_loss', 'val_accuracy'])\n"
     ]
    }
   ],
   "source": [
    "#Accuracy vs. Epoch Visualization\n",
    "print(history_3.history.keys())"
   ]
  },
  {
   "cell_type": "code",
   "execution_count": 32,
   "id": "424d3c50-955f-461d-b6df-50fa867e2595",
   "metadata": {},
   "outputs": [
    {
     "data": {
      "image/png": "[encoded data removed]",
      "text/plain": [
       "<Figure size 640x480 with 1 Axes>"
      ]
     },
     "metadata": {},
     "output_type": "display_data"
    }
   ],
   "source": [
    "import matplotlib.pyplot as plt\n",
    "\n",
    "plt.plot(history_3.history['accuracy'])\n",
    "plt.plot(history_3.history['val_accuracy'])\n",
    "plt.title(\"Training and Validation Accuracy over Time\")\n",
    "plt.ylabel(\"Accuracy\")\n",
    "plt.xlabel(\"Epoch\")\n",
    "plt.legend(['Training', 'Validation'], loc='upper left')\n",
    "plt.show()"
   ]
  },
  {
   "cell_type": "code",
   "execution_count": 33,
   "id": "4846be68-4b8b-4b47-a8f4-accea5338eef",
   "metadata": {},
   "outputs": [
    {
     "data": {
      "image/png": "[encoded data removed]",
      "text/plain": [
       "<Figure size 640x480 with 1 Axes>"
      ]
     },
     "metadata": {},
     "output_type": "display_data"
    }
   ],
   "source": [
    "plt.plot(history_3.history['loss'])\n",
    "plt.plot(history_3.history['val_loss'])\n",
    "plt.title(\"Training and Validation Loss over Time\")\n",
    "plt.ylabel(\"Loss\")\n",
    "plt.xlabel(\"Epoch\")\n",
    "plt.legend(['Training', 'Validation'], loc='upper left')\n",
    "plt.show()"
   ]
  },
  {
   "cell_type": "code",
   "execution_count": 34,
   "id": "6bacc55d-486d-42cb-84aa-e1d1ec1c5141",
   "metadata": {},
   "outputs": [
    {
     "name": "stdout",
     "output_type": "stream",
     "text": [
      "Test loss: 0.44043847918510437 / Test accuracy: 0.7986666560173035\n"
     ]
    }
   ],
   "source": [
    "#Evaluation of Model\n",
    "\n",
    "#Score:\n",
    "score = model_3.evaluate(testing_padded, testing_labels, verbose=0)\n",
    "\n",
    "print(f'Test loss: {score[0]} / Test accuracy: {score[1]}')"
   ]
  },
  {
   "cell_type": "markdown",
   "id": "fbd0371d-273c-4b56-922f-748aa956370b",
   "metadata": {},
   "source": [
    "### Exporting Data Files and Model"
   ]
  },
  {
   "cell_type": "code",
   "execution_count": 35,
   "id": "9831ee1f-b787-45e8-8ccf-af6e25c76a18",
   "metadata": {},
   "outputs": [],
   "source": [
    "#Whole dataset - Cleaned\n",
    "\n",
    "df.to_csv(r'C:/Users/court/OneDrive/Desktop/WGU/D213/D213 PA2/D213_PA2_clean_dataset.csv')"
   ]
  },
  {
   "cell_type": "code",
   "execution_count": 36,
   "id": "d04a227c-6e1a-473b-8bd2-12958851cc46",
   "metadata": {},
   "outputs": [],
   "source": [
    "#Training and Testing Sentences\n",
    "\n",
    "training_padded_df = pd.DataFrame(training_padded)\n",
    "testing_padded_df = pd.DataFrame(testing_padded)\n",
    "\n",
    "\n",
    "training_padded_df.to_csv(r'C:/Users/court/OneDrive/Desktop/WGU/D213/D213 PA2/D213_PA2_training_sentences.csv')\n",
    "testing_padded_df.to_csv(r'C:/Users/court/OneDrive/Desktop/WGU/D213/D213 PA2/D213_PA2_testing_sentences.csv')"
   ]
  },
  {
   "cell_type": "code",
   "execution_count": 37,
   "id": "664e7d0c-1a42-4a18-b00b-c8f8952b4011",
   "metadata": {},
   "outputs": [],
   "source": [
    "#Training and Testing Labels\n",
    "\n",
    "training_labels_df = pd.DataFrame(training_labels)\n",
    "testing_labels_df = pd.DataFrame(testing_labels)\n",
    "\n",
    "training_labels_df.to_csv(r'C:/Users/court/OneDrive/Desktop/WGU/D213/D213 PA2/D213_PA2_training_labels.csv')\n",
    "testing_labels_df.to_csv(r'C:/Users/court/OneDrive/Desktop/WGU/D213/D213 PA2/D213_PA2_testing_labels.csv')"
   ]
  },
  {
   "cell_type": "code",
   "execution_count": 38,
   "id": "84342be7-6636-4852-8f34-999b863198da",
   "metadata": {},
   "outputs": [],
   "source": [
    "#Saving the model\n",
    "model.save('model_3.h5')"
   ]
  },
  {
   "cell_type": "code",
   "execution_count": null,
   "id": "6bed8ab7-5340-4e30-8519-8dcff88bfda7",
   "metadata": {},
   "outputs": [],
   "source": []
  }
 ],
 "metadata": {
  "kernelspec": {
   "display_name": "Python 3 (ipykernel)",
   "language": "python",
   "name": "python3"
  },
  "language_info": {
   "codemirror_mode": {
    "name": "ipython",
    "version": 3
   },
   "file_extension": ".py",
   "mimetype": "text/x-python",
   "name": "python",
   "nbconvert_exporter": "python",
   "pygments_lexer": "ipython3",
   "version": "3.9.7"
  }
 },
 "nbformat": 4,
 "nbformat_minor": 5
}
